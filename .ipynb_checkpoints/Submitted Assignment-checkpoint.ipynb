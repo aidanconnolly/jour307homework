{
 "cells": [
  {
   "cell_type": "markdown",
   "metadata": {},
   "source": [
    "Import `agate`. Whoop-de-doo."
   ]
  },
  {
   "cell_type": "code",
   "execution_count": 8,
   "metadata": {
    "collapsed": true
   },
   "outputs": [],
   "source": [
    "import agate"
   ]
  },
  {
   "cell_type": "markdown",
   "metadata": {},
   "source": [
    "Create a table named `lust` from our .csv"
   ]
  },
  {
   "cell_type": "code",
   "execution_count": 9,
   "metadata": {
    "collapsed": true
   },
   "outputs": [],
   "source": [
    "lust = agate.Table.from_csv('filteredlustfinal.csv')"
   ]
  },
  {
   "cell_type": "markdown",
   "metadata": {},
   "source": [
    "Print it to see column headers."
   ]
  },
  {
   "cell_type": "code",
   "execution_count": 10,
   "metadata": {
    "collapsed": false
   },
   "outputs": [
    {
     "name": "stdout",
     "output_type": "stream",
     "text": [
      "|--------------------------------------+---------------|\n",
      "|  column_names                        | column_types  |\n",
      "|--------------------------------------+---------------|\n",
      "|  SPILLNO-------                      | Text          |\n",
      "|  S                                   | Text          |\n",
      "|  OWNCO--------------------           | Text          |\n",
      "|  OWNSTREET-----------                | Text          |\n",
      "|  OWNCITY-------------                | Text          |\n",
      "|  OS                                  | Text          |\n",
      "|  OZIP                                | Text          |\n",
      "|  TY                                  | Number        |\n",
      "|  DIDATE----                          | Date          |\n",
      "|  SPLOC     ------------------------- | Text          |\n",
      "|  SPCITY-------------------           | Text          |\n",
      "|  SPCOUN-------------------           | Text          |\n",
      "|  MATERIAL----------------------      | Text          |\n",
      "|  SFM_ID--                            | Text          |\n",
      "|  FAC_NAME-----------------           | Text          |\n",
      "|--------------------------------------+---------------|\n",
      "\n"
     ]
    }
   ],
   "source": [
    "print(lust)"
   ]
  },
  {
   "cell_type": "markdown",
   "metadata": {},
   "source": [
    "Create a new table with records grouped by OWNCO."
   ]
  },
  {
   "cell_type": "code",
   "execution_count": 11,
   "metadata": {
    "collapsed": false
   },
   "outputs": [],
   "source": [
    "by_OWNCO = lust.group_by('OWNCO--------------------')"
   ]
  },
  {
   "cell_type": "markdown",
   "metadata": {},
   "source": [
    "Here we count how many of each OWNCO there are."
   ]
  },
  {
   "cell_type": "code",
   "execution_count": 12,
   "metadata": {
    "collapsed": true
   },
   "outputs": [],
   "source": [
    "totals = by_OWNCO.aggregate([\n",
    "        ('count', agate.Length())\n",
    "    ])"
   ]
  },
  {
   "cell_type": "markdown",
   "metadata": {},
   "source": [
    "Then we sort by that number."
   ]
  },
  {
   "cell_type": "code",
   "execution_count": 13,
   "metadata": {
    "collapsed": true
   },
   "outputs": [],
   "source": [
    "sorted_OWNCO = totals.order_by('count', reverse=True)"
   ]
  },
  {
   "cell_type": "markdown",
   "metadata": {},
   "source": [
    "And we print it."
   ]
  },
  {
   "cell_type": "code",
   "execution_count": 14,
   "metadata": {
    "collapsed": false
   },
   "outputs": [
    {
     "name": "stdout",
     "output_type": "stream",
     "text": [
      "|----------------------------+--------|\n",
      "|  OWNCO-------------------- | count  |\n",
      "|----------------------------+--------|\n",
      "|  UNKNOWN                   |   277  |\n",
      "|  BNSF                      |    28  |\n",
      "|  BENSON 66 SERVICE INC     |    13  |\n",
      "|  BOSSELMAN INC             |    10  |\n",
      "|  PILOT/FLYING J            |     9  |\n",
      "|  UPRR                      |     9  |\n",
      "|  SAPP BROS INC             |     8  |\n",
      "|  WHITEHEAD OIL CO          |     7  |\n",
      "|  OFFUTT A F B              |     6  |\n",
      "|  ARMY CORPS OF ENGINEERS   |     5  |\n",
      "|  CITY OF OMAHA             |     5  |\n",
      "|  CONTEMPORARY INDUSTRIES   |     5  |\n",
      "|  RITEWAY OIL & GAS CO INC  |     5  |\n",
      "|  AG VALLEY COOP            |     4  |\n",
      "|  BUCKYS INC                |     4  |\n",
      "|  CASEYS GENERAL STORE      |     4  |\n",
      "|  KWIK STOP                 |     4  |\n",
      "|  NEBR DEPT OF ROADS        |     4  |\n",
      "|  SINCLAIR OIL              |     4  |\n",
      "|  CENTERGAS INC             |     3  |\n",
      "|  ...                       |   ...  |\n",
      "|----------------------------+--------|\n"
     ]
    }
   ],
   "source": [
    "sorted_OWNCO.print_table(max_rows=20)"
   ]
  },
  {
   "cell_type": "code",
   "execution_count": null,
   "metadata": {
    "collapsed": true
   },
   "outputs": [],
   "source": []
  }
 ],
 "metadata": {
  "kernelspec": {
   "display_name": "Python 3",
   "language": "python",
   "name": "python3"
  },
  "language_info": {
   "codemirror_mode": {
    "name": "ipython",
    "version": 3
   },
   "file_extension": ".py",
   "mimetype": "text/x-python",
   "name": "python",
   "nbconvert_exporter": "python",
   "pygments_lexer": "ipython3",
   "version": "3.5.1"
  }
 },
 "nbformat": 4,
 "nbformat_minor": 0
}
