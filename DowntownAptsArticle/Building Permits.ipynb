{
 "cells": [
  {
   "cell_type": "markdown",
   "metadata": {},
   "source": [
    "# Downtown Lincoln Multi-Family Unit Growth\n",
    "\n",
    "This data analyzes the number of multi-family units built in Downtown Lincoln since 2002. Data is from Paul Barnes, Long Range Planning Manager for the Lincoln Planning Department."
   ]
  },
  {
   "cell_type": "code",
   "execution_count": 1,
   "metadata": {
    "collapsed": true
   },
   "outputs": [],
   "source": [
    "import agate"
   ]
  },
  {
   "cell_type": "markdown",
   "metadata": {},
   "source": [
    "After importing `agate`, I imported the data into a table named `apts`."
   ]
  },
  {
   "cell_type": "code",
   "execution_count": 2,
   "metadata": {
    "collapsed": false
   },
   "outputs": [],
   "source": [
    "apts = agate.Table.from_csv('Building Permits.csv')"
   ]
  },
  {
   "cell_type": "code",
   "execution_count": 3,
   "metadata": {
    "collapsed": false
   },
   "outputs": [
    {
     "name": "stdout",
     "output_type": "stream",
     "text": [
      "|-----------------------+---------------|\n",
      "|  column_names         | column_types  |\n",
      "|-----------------------+---------------|\n",
      "|  Project Name         | Text          |\n",
      "|  Location             | Text          |\n",
      "|  Sudio/Effic.         | Number        |\n",
      "|  1 bed                | Number        |\n",
      "|  2 bed                | Number        |\n",
      "|  3 bed                | Number        |\n",
      "|  4 bed                | Number        |\n",
      "|  5+ bed               | Boolean       |\n",
      "|  Total Beds           | Text          |\n",
      "|  Dwelling Units Built | Number        |\n",
      "|  Approved or Proposed | Number        |\n",
      "|  Bldg Permit          | Text          |\n",
      "|  Permit Year          | Number        |\n",
      "|-----------------------+---------------|\n",
      "\n"
     ]
    }
   ],
   "source": [
    "print(apts)"
   ]
  },
  {
   "cell_type": "markdown",
   "metadata": {},
   "source": [
    "I created a new table called `permit_year` by taking the \"Project Name\" and \"Permit Year\" columns from the `apts` table. Then, I removed the records without a year and sorted the records by \"Permit Year\"."
   ]
  },
  {
   "cell_type": "code",
   "execution_count": 4,
   "metadata": {
    "collapsed": true
   },
   "outputs": [],
   "source": [
    "permit_year = apts.select(['Project Name', 'Permit Year'])"
   ]
  },
  {
   "cell_type": "code",
   "execution_count": 5,
   "metadata": {
    "collapsed": false
   },
   "outputs": [],
   "source": [
    "permit_year = permit_year.where(lambda row: row['Permit Year'] != None)"
   ]
  },
  {
   "cell_type": "code",
   "execution_count": 6,
   "metadata": {
    "collapsed": true
   },
   "outputs": [],
   "source": [
    "permit_year = permit_year.order_by('Permit Year')"
   ]
  },
  {
   "cell_type": "code",
   "execution_count": 7,
   "metadata": {
    "collapsed": false
   },
   "outputs": [
    {
     "name": "stdout",
     "output_type": "stream",
     "text": [
      "|-----------------------+--------------|\n",
      "|  Project Name         | Permit Year  |\n",
      "|-----------------------+--------------|\n",
      "|  The Lincoln Build... |       2,002  |\n",
      "|  Grand Manse          |       2,004  |\n",
      "|  UNL-The Courtyards   |       2,004  |\n",
      "|  UNL-The Village      |       2,005  |\n",
      "|  The Option (condos)  |       2,006  |\n",
      "|  W.C. Shinn Lofts     |       2,009  |\n",
      "|  UNL-Knoll Residen... |       2,009  |\n",
      "|  Lincoln Flats        |       2,010  |\n",
      "|  Cadillac Lofts       |       2,011  |\n",
      "|  Freadrich Building   |       2,011  |\n",
      "|  Parkhaus             |       2,011  |\n",
      "|  Arena Lofts          |       2,012  |\n",
      "|  Canopy Lofts         |       2,012  |\n",
      "|  Hobson Place (con... |       2,012  |\n",
      "|  UNL-University Su... |       2,012  |\n",
      "|  50/50                |       2,013  |\n",
      "|  Aerie 147 Lofts      |       2,013  |\n",
      "|  UNL-Eastside         |       2,013  |\n",
      "|  Case, Case and Case  |       2,014  |\n",
      "|  Latitude             |       2,014  |\n",
      "|  Prime Place          |       2,014  |\n",
      "|  8N Lofts             |       2,015  |\n",
      "|  Aspen                |       2,015  |\n",
      "|-----------------------+--------------|\n"
     ]
    }
   ],
   "source": [
    "permit_year.print_table()"
   ]
  },
  {
   "cell_type": "markdown",
   "metadata": {},
   "source": [
    "I grouped the records by year and counted them to see how many building permits were given out per year."
   ]
  },
  {
   "cell_type": "code",
   "execution_count": 8,
   "metadata": {
    "collapsed": true
   },
   "outputs": [],
   "source": [
    "permit_by_year = permit_year.group_by('Permit Year')"
   ]
  },
  {
   "cell_type": "code",
   "execution_count": 9,
   "metadata": {
    "collapsed": false
   },
   "outputs": [],
   "source": [
    "permit_by_year_totals = permit_by_year.aggregate([\n",
    "    ('count', agate.Count())\n",
    "])"
   ]
  },
  {
   "cell_type": "code",
   "execution_count": 10,
   "metadata": {
    "collapsed": false
   },
   "outputs": [
    {
     "name": "stdout",
     "output_type": "stream",
     "text": [
      "|--------------+--------|\n",
      "|  Permit Year | count  |\n",
      "|--------------+--------|\n",
      "|        2,002 |     1  |\n",
      "|        2,004 |     2  |\n",
      "|        2,005 |     1  |\n",
      "|        2,006 |     1  |\n",
      "|        2,009 |     2  |\n",
      "|        2,010 |     1  |\n",
      "|        2,011 |     3  |\n",
      "|        2,012 |     4  |\n",
      "|        2,013 |     3  |\n",
      "|        2,014 |     3  |\n",
      "|        2,015 |     2  |\n",
      "|--------------+--------|\n"
     ]
    }
   ],
   "source": [
    "permit_by_year_totals.print_table()"
   ]
  },
  {
   "cell_type": "code",
   "execution_count": 11,
   "metadata": {
    "collapsed": false
   },
   "outputs": [
    {
     "name": "stdout",
     "output_type": "stream",
     "text": [
      "Permit Year count\n",
      "2002            1 ▓░░░░░░░░░░░░░░░                                              \n",
      "2004            2 ▓░░░░░░░░░░░░░░░░░░░░░░░░░░░░░░                               \n",
      "2005            1 ▓░░░░░░░░░░░░░░░                                              \n",
      "2006            1 ▓░░░░░░░░░░░░░░░                                              \n",
      "2009            2 ▓░░░░░░░░░░░░░░░░░░░░░░░░░░░░░░                               \n",
      "2010            1 ▓░░░░░░░░░░░░░░░                                              \n",
      "2011            3 ▓░░░░░░░░░░░░░░░░░░░░░░░░░░░░░░░░░░░░░░░░░░░░░░               \n",
      "2012            4 ▓░░░░░░░░░░░░░░░░░░░░░░░░░░░░░░░░░░░░░░░░░░░░░░░░░░░░░░░░░░░░░\n",
      "2013            3 ▓░░░░░░░░░░░░░░░░░░░░░░░░░░░░░░░░░░░░░░░░░░░░░░               \n",
      "2014            3 ▓░░░░░░░░░░░░░░░░░░░░░░░░░░░░░░░░░░░░░░░░░░░░░░               \n",
      "2015            2 ▓░░░░░░░░░░░░░░░░░░░░░░░░░░░░░░                               \n",
      "                  +--------------+--------------+---------------+--------------+\n",
      "                  0              1              2               3              4\n"
     ]
    }
   ],
   "source": [
    "permit_by_year_totals.print_bars(label_column_name='Permit Year', value_column_name='count', width=80)"
   ]
  },
  {
   "cell_type": "markdown",
   "metadata": {},
   "source": [
    "Next, I created a new table using the \"Dwelling Units Built\" and \"Permit Year\" columns from the `apts` table. I removed the records with no \"Dwelling Units Built\" value and ordered by the \"Permit Year\" value."
   ]
  },
  {
   "cell_type": "code",
   "execution_count": 19,
   "metadata": {
    "collapsed": true
   },
   "outputs": [],
   "source": [
    "dwelling_year = apts.select(['Approved or Proposed', 'Permit Year'])"
   ]
  },
  {
   "cell_type": "code",
   "execution_count": 20,
   "metadata": {
    "collapsed": true
   },
   "outputs": [],
   "source": [
    "dwelling_year = dwelling_year.where(lambda row: row['Approved or Proposed'] != None)"
   ]
  },
  {
   "cell_type": "code",
   "execution_count": 23,
   "metadata": {
    "collapsed": true
   },
   "outputs": [],
   "source": [
    "dwelling_year = dwelling_year.where(lambda row: row['Permit Year'] != None)"
   ]
  },
  {
   "cell_type": "code",
   "execution_count": 24,
   "metadata": {
    "collapsed": true
   },
   "outputs": [],
   "source": [
    "dwelling_year = dwelling_year.order_by('Permit Year')"
   ]
  },
  {
   "cell_type": "code",
   "execution_count": 25,
   "metadata": {
    "collapsed": false
   },
   "outputs": [
    {
     "name": "stdout",
     "output_type": "stream",
     "text": [
      "|-----------------------+--------------|\n",
      "|  Approved or Proposed | Permit Year  |\n",
      "|-----------------------+--------------|\n",
      "|                    50 |       2,002  |\n",
      "|                    52 |       2,004  |\n",
      "|                   132 |       2,004  |\n",
      "|                   213 |       2,005  |\n",
      "|                    13 |       2,006  |\n",
      "|                    15 |       2,009  |\n",
      "|                   143 |       2,009  |\n",
      "|                    22 |       2,010  |\n",
      "|                    21 |       2,011  |\n",
      "|                     6 |       2,011  |\n",
      "|                    52 |       2,011  |\n",
      "|                    66 |       2,012  |\n",
      "|                    71 |       2,012  |\n",
      "|                    32 |       2,012  |\n",
      "|                   136 |       2,012  |\n",
      "|                   124 |       2,013  |\n",
      "|                    52 |       2,013  |\n",
      "|                   136 |       2,013  |\n",
      "|                    23 |       2,014  |\n",
      "|                   199 |       2,014  |\n",
      "|                   126 |       2,014  |\n",
      "|                   172 |       2,015  |\n",
      "|                   182 |       2,015  |\n",
      "|-----------------------+--------------|\n"
     ]
    }
   ],
   "source": [
    "dwelling_year.print_table()"
   ]
  },
  {
   "cell_type": "markdown",
   "metadata": {},
   "source": [
    "I then grouped by year to show how many dwelling units were built per year."
   ]
  },
  {
   "cell_type": "code",
   "execution_count": 26,
   "metadata": {
    "collapsed": true
   },
   "outputs": [],
   "source": [
    "dwelling_by_year = dwelling_year.group_by('Permit Year')"
   ]
  },
  {
   "cell_type": "code",
   "execution_count": 27,
   "metadata": {
    "collapsed": false
   },
   "outputs": [],
   "source": [
    "dwelling_by_year_totals = dwelling_by_year.aggregate([\n",
    "    ('sum', agate.Sum('Approved or Proposed'))\n",
    "])"
   ]
  },
  {
   "cell_type": "code",
   "execution_count": 28,
   "metadata": {
    "collapsed": false
   },
   "outputs": [
    {
     "name": "stdout",
     "output_type": "stream",
     "text": [
      "Permit Year sum\n",
      "2002         50 ▓░░░░░░░░                                                       \n",
      "2004        184 ▓░░░░░░░░░░░░░░░░░░░░░░░░░░░░░                                  \n",
      "2005        213 ▓░░░░░░░░░░░░░░░░░░░░░░░░░░░░░░░░░░                             \n",
      "2006         13 ▓░░                                                             \n",
      "2009        158 ▓░░░░░░░░░░░░░░░░░░░░░░░░░                                      \n",
      "2010         22 ▓░░░                                                            \n",
      "2011         79 ▓░░░░░░░░░░░░                                                   \n",
      "2012        305 ▓░░░░░░░░░░░░░░░░░░░░░░░░░░░░░░░░░░░░░░░░░░░░░░░░               \n",
      "2013        312 ▓░░░░░░░░░░░░░░░░░░░░░░░░░░░░░░░░░░░░░░░░░░░░░░░░░              \n",
      "2014        348 ▓░░░░░░░░░░░░░░░░░░░░░░░░░░░░░░░░░░░░░░░░░░░░░░░░░░░░░░░        \n",
      "2015        354 ▓░░░░░░░░░░░░░░░░░░░░░░░░░░░░░░░░░░░░░░░░░░░░░░░░░░░░░░░░       \n",
      "                +---------------+---------------+--------------+---------------+\n",
      "                0              100             200            300            400\n"
     ]
    }
   ],
   "source": [
    "dwelling_by_year_totals.print_bars(label_column_name='Permit Year', value_column_name='sum', width=80)"
   ]
  },
  {
   "cell_type": "code",
   "execution_count": null,
   "metadata": {
    "collapsed": true
   },
   "outputs": [],
   "source": []
  }
 ],
 "metadata": {
  "kernelspec": {
   "display_name": "Python 3",
   "language": "python",
   "name": "python3"
  },
  "language_info": {
   "codemirror_mode": {
    "name": "ipython",
    "version": 3
   },
   "file_extension": ".py",
   "mimetype": "text/x-python",
   "name": "python",
   "nbconvert_exporter": "python",
   "pygments_lexer": "ipython3",
   "version": "3.5.1"
  }
 },
 "nbformat": 4,
 "nbformat_minor": 0
}
