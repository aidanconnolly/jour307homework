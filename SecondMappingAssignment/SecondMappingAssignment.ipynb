{
 "cells": [
  {
   "cell_type": "markdown",
   "metadata": {},
   "source": [
    "First, import agate."
   ]
  },
  {
   "cell_type": "code",
   "execution_count": 1,
   "metadata": {
    "collapsed": true
   },
   "outputs": [],
   "source": [
    "import agate"
   ]
  },
  {
   "cell_type": "markdown",
   "metadata": {},
   "source": [
    "Then, import the data. We'll force the 'FIPS' and 'CombinedFIPS' columns to be Text."
   ]
  },
  {
   "cell_type": "code",
   "execution_count": 2,
   "metadata": {
    "collapsed": false
   },
   "outputs": [],
   "source": [
    "tester = agate.TypeTester(force={\n",
    "        'FIPS': agate.Text(),\n",
    "        'CombinedFIPS': agate.Text()\n",
    "    })\n",
    "amenities = agate.Table.from_csv('naturalamenities.csv', column_types=tester)"
   ]
  },
  {
   "cell_type": "markdown",
   "metadata": {},
   "source": [
    "Print the column names and types."
   ]
  },
  {
   "cell_type": "code",
   "execution_count": 3,
   "metadata": {
    "collapsed": false
   },
   "outputs": [
    {
     "name": "stdout",
     "output_type": "stream",
     "text": [
      "|-------------------------+---------------|\n",
      "|  column_names           | column_types  |\n",
      "|-------------------------+---------------|\n",
      "|  FIPS                   | Text          |\n",
      "|  CombinedFIPS           | Text          |\n",
      "|  STATE                  | Text          |\n",
      "|  County name            | Text          |\n",
      "|  CensusDivision         | Number        |\n",
      "|  RuralUrbanCode         | Number        |\n",
      "|  UrbanInfluenceCode     | Number        |\n",
      "|  MeanJanuaryTemp        | Number        |\n",
      "|  MeanJanuarySun         | Number        |\n",
      "|  MeanJulyTemp           | Number        |\n",
      "|  MeanJulyHumidity       | Number        |\n",
      "|  TopographyCode         | Number        |\n",
      "|  PercentWaterArea       | Number        |\n",
      "|  NaturalLogPercentWater | Number        |\n",
      "|  JanTempZScore          | Number        |\n",
      "|  JanSunZScore           | Number        |\n",
      "|  JulyTempZScore         | Number        |\n",
      "|  JulyHumidityZScore     | Number        |\n",
      "|  TopoZScore             | Number        |\n",
      "|  WaterAreaZScore        | Number        |\n",
      "|  NaturalAmenityScale    | Number        |\n",
      "|  NaturualAmenityRank    | Number        |\n",
      "|-------------------------+---------------|\n",
      "\n"
     ]
    }
   ],
   "source": [
    "print(amenities)"
   ]
  },
  {
   "cell_type": "markdown",
   "metadata": {},
   "source": [
    "I'm only interested in certain columns, so I created a new table with only those columns."
   ]
  },
  {
   "cell_type": "code",
   "execution_count": 4,
   "metadata": {
    "collapsed": true
   },
   "outputs": [],
   "source": [
    "amenities = amenities.select(['CombinedFIPS', 'STATE', 'County name', 'NaturalAmenityScale'])"
   ]
  },
  {
   "cell_type": "markdown",
   "metadata": {},
   "source": [
    "Now, I order the entries by the amenity scale."
   ]
  },
  {
   "cell_type": "code",
   "execution_count": 5,
   "metadata": {
    "collapsed": true
   },
   "outputs": [],
   "source": [
    "ordered = amenities.order_by('NaturalAmenityScale')"
   ]
  },
  {
   "cell_type": "markdown",
   "metadata": {},
   "source": [
    "And print those out."
   ]
  },
  {
   "cell_type": "code",
   "execution_count": 6,
   "metadata": {
    "collapsed": false
   },
   "outputs": [
    {
     "name": "stdout",
     "output_type": "stream",
     "text": [
      "|---------------+-------+--------------+----------------------|\n",
      "|  CombinedFIPS | STATE | County name  | NaturalAmenityScale  |\n",
      "|---------------+-------+--------------+----------------------|\n",
      "|  27125        | MN    | RED LAKE     |               -6.40  |\n",
      "|  27167        | MN    | WILKIN       |               -6.10  |\n",
      "|  18159        | IN    | TIPTON       |               -5.40  |\n",
      "|  27107        | MN    | NORMAN       |               -5.37  |\n",
      "|  27099        | MN    | MOWER        |               -5.18  |\n",
      "|  38067        | ND    | PEMBINA      |               -5.18  |\n",
      "|  38097        | ND    | TRAILL       |               -5.12  |\n",
      "|  27039        | MN    | DODGE        |               -5.08  |\n",
      "|  38035        | ND    | GRAND FORKS  |               -5.01  |\n",
      "|  27113        | MN    | PENNINGTON   |               -4.97  |\n",
      "|  27069        | MN    | KITTSON      |               -4.90  |\n",
      "|  19075        | IA    | GRUNDY       |               -4.86  |\n",
      "|  38017        | ND    | CASS         |               -4.84  |\n",
      "|  18007        | IN    | BENTON       |               -4.71  |\n",
      "|  17019        | IL    | CHAMPAIGN    |               -4.55  |\n",
      "|  19119        | IA    | LYON         |               -4.49  |\n",
      "|  19109        | IA    | KOSSUTH      |               -4.47  |\n",
      "|  19191        | IA    | WINNESHIEK   |               -4.44  |\n",
      "|  18023        | IN    | CLINTON      |               -4.37  |\n",
      "|  55019        | WI    | CLARK        |               -4.34  |\n",
      "|  27135        | MN    | ROSEAU       |               -4.30  |\n",
      "|  27133        | MN    | ROCK         |               -4.25  |\n",
      "|  19141        | IA    | OBRIEN       |               -4.23  |\n",
      "|  17147        | IL    | PIATT        |               -4.21  |\n",
      "|  38073        | ND    | RANSOM       |               -4.21  |\n",
      "|  27071        | MN    | KOOCHICHING  |               -4.20  |\n",
      "|  19069        | IA    | FRANKLIN     |               -4.18  |\n",
      "|  27027        | MN    | CLAY         |               -4.17  |\n",
      "|  19089        | IA    | HOWARD       |               -4.16  |\n",
      "|  27117        | MN    | PIPESTONE    |               -4.13  |\n",
      "|  19131        | IA    | MITCHELL     |               -4.10  |\n",
      "|  19065        | IA    | FAYETTE      |               -4.09  |\n",
      "|  19081        | IA    | HANCOCK      |               -4.06  |\n",
      "|  19091        | IA    | HUMBOLDT     |               -4.05  |\n",
      "|  27089        | MN    | MARSHALL     |               -4.05  |\n",
      "|  31185        | NE    | YORK         |               -4.05  |\n",
      "|  19067        | IA    | FLOYD        |               -4.03  |\n",
      "|  17053        | IL    | FORD         |               -4.02  |\n",
      "|  31179        | NE    | WAYNE        |               -4.02  |\n",
      "|  17075        | IL    | IROQUOIS     |               -4.00  |\n",
      "|  31059        | NE    | FILLMORE     |               -4.00  |\n",
      "|  38095        | ND    | TOWNER       |               -3.99  |\n",
      "|  18075        | IN    | JAY          |               -3.98  |\n",
      "|  21213        | KY    | SIMPSON      |               -3.98  |\n",
      "|  27173        | MN    | YELLOW MEDIC |               -3.98  |\n",
      "|  18139        | IN    | RUSH         |               -3.97  |\n",
      "|  27109        | MN    | OLMSTED      |               -3.96  |\n",
      "|  17105        | IL    | LIVINGSTON   |               -3.95  |\n",
      "|  19107        | IA    | KEOKUK       |               -3.95  |\n",
      "|  38099        | ND    | WALSH        |               -3.95  |\n",
      "|  ...          | ...   | ...          |                 ...  |\n",
      "|---------------+-------+--------------+----------------------|\n"
     ]
    }
   ],
   "source": [
    "ordered.print_table(max_rows=50)"
   ]
  },
  {
   "cell_type": "markdown",
   "metadata": {},
   "source": [
    "So, these are the 50 worst counties. Now, I'll create a new table with only these records."
   ]
  },
  {
   "cell_type": "code",
   "execution_count": 7,
   "metadata": {
    "collapsed": false
   },
   "outputs": [],
   "source": [
    "top50 = ordered.where(lambda row: row['NaturalAmenityScale'] < -3.949)"
   ]
  },
  {
   "cell_type": "markdown",
   "metadata": {},
   "source": [
    "And print it."
   ]
  },
  {
   "cell_type": "code",
   "execution_count": 8,
   "metadata": {
    "collapsed": false
   },
   "outputs": [
    {
     "name": "stdout",
     "output_type": "stream",
     "text": [
      "|---------------+-------+--------------+----------------------|\n",
      "|  CombinedFIPS | STATE | County name  | NaturalAmenityScale  |\n",
      "|---------------+-------+--------------+----------------------|\n",
      "|  27125        | MN    | RED LAKE     |               -6.40  |\n",
      "|  27167        | MN    | WILKIN       |               -6.10  |\n",
      "|  18159        | IN    | TIPTON       |               -5.40  |\n",
      "|  27107        | MN    | NORMAN       |               -5.37  |\n",
      "|  27099        | MN    | MOWER        |               -5.18  |\n",
      "|  38067        | ND    | PEMBINA      |               -5.18  |\n",
      "|  38097        | ND    | TRAILL       |               -5.12  |\n",
      "|  27039        | MN    | DODGE        |               -5.08  |\n",
      "|  38035        | ND    | GRAND FORKS  |               -5.01  |\n",
      "|  27113        | MN    | PENNINGTON   |               -4.97  |\n",
      "|  27069        | MN    | KITTSON      |               -4.90  |\n",
      "|  19075        | IA    | GRUNDY       |               -4.86  |\n",
      "|  38017        | ND    | CASS         |               -4.84  |\n",
      "|  18007        | IN    | BENTON       |               -4.71  |\n",
      "|  17019        | IL    | CHAMPAIGN    |               -4.55  |\n",
      "|  19119        | IA    | LYON         |               -4.49  |\n",
      "|  19109        | IA    | KOSSUTH      |               -4.47  |\n",
      "|  19191        | IA    | WINNESHIEK   |               -4.44  |\n",
      "|  18023        | IN    | CLINTON      |               -4.37  |\n",
      "|  55019        | WI    | CLARK        |               -4.34  |\n",
      "|  27135        | MN    | ROSEAU       |               -4.30  |\n",
      "|  27133        | MN    | ROCK         |               -4.25  |\n",
      "|  19141        | IA    | OBRIEN       |               -4.23  |\n",
      "|  17147        | IL    | PIATT        |               -4.21  |\n",
      "|  38073        | ND    | RANSOM       |               -4.21  |\n",
      "|  27071        | MN    | KOOCHICHING  |               -4.20  |\n",
      "|  19069        | IA    | FRANKLIN     |               -4.18  |\n",
      "|  27027        | MN    | CLAY         |               -4.17  |\n",
      "|  19089        | IA    | HOWARD       |               -4.16  |\n",
      "|  27117        | MN    | PIPESTONE    |               -4.13  |\n",
      "|  19131        | IA    | MITCHELL     |               -4.10  |\n",
      "|  19065        | IA    | FAYETTE      |               -4.09  |\n",
      "|  19081        | IA    | HANCOCK      |               -4.06  |\n",
      "|  19091        | IA    | HUMBOLDT     |               -4.05  |\n",
      "|  27089        | MN    | MARSHALL     |               -4.05  |\n",
      "|  31185        | NE    | YORK         |               -4.05  |\n",
      "|  19067        | IA    | FLOYD        |               -4.03  |\n",
      "|  17053        | IL    | FORD         |               -4.02  |\n",
      "|  31179        | NE    | WAYNE        |               -4.02  |\n",
      "|  17075        | IL    | IROQUOIS     |               -4.00  |\n",
      "|  31059        | NE    | FILLMORE     |               -4.00  |\n",
      "|  38095        | ND    | TOWNER       |               -3.99  |\n",
      "|  18075        | IN    | JAY          |               -3.98  |\n",
      "|  21213        | KY    | SIMPSON      |               -3.98  |\n",
      "|  27173        | MN    | YELLOW MEDIC |               -3.98  |\n",
      "|  18139        | IN    | RUSH         |               -3.97  |\n",
      "|  27109        | MN    | OLMSTED      |               -3.96  |\n",
      "|  17105        | IL    | LIVINGSTON   |               -3.95  |\n",
      "|  19107        | IA    | KEOKUK       |               -3.95  |\n",
      "|  38099        | ND    | WALSH        |               -3.95  |\n",
      "|---------------+-------+--------------+----------------------|\n"
     ]
    }
   ],
   "source": [
    "top50.print_table()"
   ]
  },
  {
   "cell_type": "markdown",
   "metadata": {},
   "source": [
    "Just for fun, I grouped the records by state."
   ]
  },
  {
   "cell_type": "code",
   "execution_count": 9,
   "metadata": {
    "collapsed": true
   },
   "outputs": [],
   "source": [
    "states = top50.group_by('STATE')"
   ]
  },
  {
   "cell_type": "markdown",
   "metadata": {},
   "source": [
    "Counted them."
   ]
  },
  {
   "cell_type": "code",
   "execution_count": 10,
   "metadata": {
    "collapsed": false
   },
   "outputs": [],
   "source": [
    "states = states.aggregate([\n",
    "    ('count', agate.Count())\n",
    "])"
   ]
  },
  {
   "cell_type": "markdown",
   "metadata": {},
   "source": [
    "Ordered them."
   ]
  },
  {
   "cell_type": "code",
   "execution_count": 11,
   "metadata": {
    "collapsed": true
   },
   "outputs": [],
   "source": [
    "states = states.order_by('count')"
   ]
  },
  {
   "cell_type": "markdown",
   "metadata": {},
   "source": [
    "And printed them."
   ]
  },
  {
   "cell_type": "code",
   "execution_count": 12,
   "metadata": {
    "collapsed": false
   },
   "outputs": [
    {
     "name": "stdout",
     "output_type": "stream",
     "text": [
      "|--------+--------|\n",
      "|  STATE | count  |\n",
      "|--------+--------|\n",
      "|  WI    |     1  |\n",
      "|  KY    |     1  |\n",
      "|  NE    |     3  |\n",
      "|  IN    |     5  |\n",
      "|  IL    |     5  |\n",
      "|  ND    |     7  |\n",
      "|  IA    |    13  |\n",
      "|  MN    |    15  |\n",
      "|--------+--------|\n"
     ]
    }
   ],
   "source": [
    "states.print_table()"
   ]
  },
  {
   "cell_type": "markdown",
   "metadata": {},
   "source": [
    "Then, I sent the top50 and ordered sets out to a .csv"
   ]
  },
  {
   "cell_type": "code",
   "execution_count": 13,
   "metadata": {
    "collapsed": true
   },
   "outputs": [],
   "source": [
    "top50.to_csv('Top50.csv')"
   ]
  },
  {
   "cell_type": "code",
   "execution_count": 14,
   "metadata": {
    "collapsed": true
   },
   "outputs": [],
   "source": [
    "ordered.to_csv('ordered.csv')"
   ]
  },
  {
   "cell_type": "code",
   "execution_count": null,
   "metadata": {
    "collapsed": true
   },
   "outputs": [],
   "source": []
  }
 ],
 "metadata": {
  "kernelspec": {
   "display_name": "Python 3",
   "language": "python",
   "name": "python3"
  },
  "language_info": {
   "codemirror_mode": {
    "name": "ipython",
    "version": 3
   },
   "file_extension": ".py",
   "mimetype": "text/x-python",
   "name": "python",
   "nbconvert_exporter": "python",
   "pygments_lexer": "ipython3",
   "version": "3.5.1"
  }
 },
 "nbformat": 4,
 "nbformat_minor": 0
}
