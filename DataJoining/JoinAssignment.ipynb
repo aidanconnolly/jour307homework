{
 "cells": [
  {
   "cell_type": "markdown",
   "metadata": {},
   "source": [
    "# Data joining\n",
    "\n",
    "The assignment:\n",
    ">Often, in data, we have one set of information stored in a table over here, and another set of information stored in a table over here. At the university, your student records are scattered in tables all over. Somewhere, there is a master student record, that has your name, birthdate, ID number, home address and other basic info. Then, over in the registrars office, we have the classes you took and the grades you received. Over here, we have the bursars office, which shows how much you owe in tuition and how much you've paid. If we wanted to get a single table together that showed how much you paid for each grade you got, we'd have to JOIN them together somehow.  \n",
    ">\n",
    ">There are three data files in the Data folder in the class repository: frl13, frl14, and frl15. They are the Free and Reduced Lunch participation totals for every school in Nebraska. I want you to join them together into a single table and calculate the percent change from 2013 to 2015 and sort them by the largest. Which school in Nebraska saw the largest increase in participation in free and reduced school lunches, which is a proxy for poverty.\n",
    "\n",
    "First, import agate."
   ]
  },
  {
   "cell_type": "code",
   "execution_count": 1,
   "metadata": {
    "collapsed": true
   },
   "outputs": [],
   "source": [
    "import agate"
   ]
  },
  {
   "cell_type": "markdown",
   "metadata": {},
   "source": [
    "I have already gone into each dataset and created a new column named `JOIN`, with the year after it. This is for later use.\n",
    "\n",
    "We need to import each table. We'll print the column names and types, as well as the length."
   ]
  },
  {
   "cell_type": "code",
   "execution_count": 2,
   "metadata": {
    "collapsed": false
   },
   "outputs": [
    {
     "name": "stdout",
     "output_type": "stream",
     "text": [
      "|----------------+------------|\n",
      "|  column        | data_type  |\n",
      "|----------------+------------|\n",
      "|  FY13          | Text       |\n",
      "|  JOIN13        | Text       |\n",
      "|  COUNTY13      | Text       |\n",
      "|  CODISTSCH13   | Number     |\n",
      "|  SCHOOLNAME13  | Text       |\n",
      "|  SCHOOLTYPE13  | Text       |\n",
      "|  GRADE13       | Text       |\n",
      "|  ENROLLED13    | Number     |\n",
      "|  FREEREDUCED13 | Number     |\n",
      "|  PERCENT13     | Number     |\n",
      "|  WARNING3      | Text       |\n",
      "|----------------+------------|\n",
      "\n",
      "1249\n"
     ]
    }
   ],
   "source": [
    "frl13 = agate.Table.from_csv('FRLJoin13.csv')\n",
    "print(frl13)\n",
    "print(len(frl13.rows))"
   ]
  },
  {
   "cell_type": "code",
   "execution_count": 3,
   "metadata": {
    "collapsed": false
   },
   "outputs": [
    {
     "name": "stdout",
     "output_type": "stream",
     "text": [
      "|----------------+------------|\n",
      "|  column        | data_type  |\n",
      "|----------------+------------|\n",
      "|  FY14          | Text       |\n",
      "|  JOIN14        | Text       |\n",
      "|  COUNTY14      | Text       |\n",
      "|  CODISTSCH14   | Number     |\n",
      "|  SCHOOLNAME14  | Text       |\n",
      "|  SCHOOLTYPE14  | Text       |\n",
      "|  GRADE14       | Text       |\n",
      "|  ENROLLED14    | Number     |\n",
      "|  FREEREDUCED14 | Number     |\n",
      "|  PERCENT14     | Number     |\n",
      "|  WARNING14     | Text       |\n",
      "|  CEP14         | Text       |\n",
      "|----------------+------------|\n",
      "\n",
      "1236\n"
     ]
    }
   ],
   "source": [
    "frl14 = agate.Table.from_csv('FRLJoin14.csv')\n",
    "print(frl14)\n",
    "print(len(frl14.rows))"
   ]
  },
  {
   "cell_type": "code",
   "execution_count": 4,
   "metadata": {
    "collapsed": false
   },
   "outputs": [
    {
     "name": "stdout",
     "output_type": "stream",
     "text": [
      "|------------------+------------|\n",
      "|  column          | data_type  |\n",
      "|------------------+------------|\n",
      "|  FY15            | Text       |\n",
      "|  JOIN15          | Text       |\n",
      "|  COUNTY15        | Text       |\n",
      "|  CODISTSCH15     | Number     |\n",
      "|  SCHOOLNAME15    | Text       |\n",
      "|  SCHOOLTYPE15    | Text       |\n",
      "|  GRADE15         | Text       |\n",
      "|  ENROLLED15      | Number     |\n",
      "|  FREEREDUCED15   | Number     |\n",
      "|  PERCENT15       | Number     |\n",
      "|  WARNING15       | Text       |\n",
      "|  CEP_Indicator15 | Text       |\n",
      "|------------------+------------|\n",
      "\n",
      "1229\n"
     ]
    }
   ],
   "source": [
    "frl15 = agate.Table.from_csv('FRLJoin15.csv')\n",
    "print(frl15)\n",
    "print(len(frl15.rows))"
   ]
  },
  {
   "cell_type": "markdown",
   "metadata": {},
   "source": [
    "Now, we'll join the 2013 and 2014 data, using the join method. We're joining using the column that I created earlier to prevent any duplicates. "
   ]
  },
  {
   "cell_type": "code",
   "execution_count": 5,
   "metadata": {
    "collapsed": true
   },
   "outputs": [],
   "source": [
    "frl1314 = frl14.join(frl13, 'JOIN14','JOIN13', inner=True)"
   ]
  },
  {
   "cell_type": "markdown",
   "metadata": {},
   "source": [
    "And we'll print it."
   ]
  },
  {
   "cell_type": "code",
   "execution_count": 6,
   "metadata": {
    "collapsed": false
   },
   "outputs": [
    {
     "name": "stdout",
     "output_type": "stream",
     "text": [
      "|----------------+------------|\n",
      "|  column        | data_type  |\n",
      "|----------------+------------|\n",
      "|  FY14          | Text       |\n",
      "|  JOIN14        | Text       |\n",
      "|  COUNTY14      | Text       |\n",
      "|  CODISTSCH14   | Number     |\n",
      "|  SCHOOLNAME14  | Text       |\n",
      "|  SCHOOLTYPE14  | Text       |\n",
      "|  GRADE14       | Text       |\n",
      "|  ENROLLED14    | Number     |\n",
      "|  FREEREDUCED14 | Number     |\n",
      "|  PERCENT14     | Number     |\n",
      "|  WARNING14     | Text       |\n",
      "|  CEP14         | Text       |\n",
      "|  FY13          | Text       |\n",
      "|  COUNTY13      | Text       |\n",
      "|  CODISTSCH13   | Number     |\n",
      "|  SCHOOLNAME13  | Text       |\n",
      "|  SCHOOLTYPE13  | Text       |\n",
      "|  GRADE13       | Text       |\n",
      "|  ENROLLED13    | Number     |\n",
      "|  FREEREDUCED13 | Number     |\n",
      "|  ...           | ...        |\n",
      "|----------------+------------|\n",
      "\n"
     ]
    }
   ],
   "source": [
    "print(frl1314)"
   ]
  },
  {
   "cell_type": "markdown",
   "metadata": {},
   "source": [
    "Looks like everything worked properly. Now let's join this new table with the 2015 data."
   ]
  },
  {
   "cell_type": "code",
   "execution_count": 7,
   "metadata": {
    "collapsed": true
   },
   "outputs": [],
   "source": [
    "frlTotal = frl15.join(frl1314, 'JOIN15', 'JOIN14', inner=True)"
   ]
  },
  {
   "cell_type": "markdown",
   "metadata": {},
   "source": [
    "And print it."
   ]
  },
  {
   "cell_type": "code",
   "execution_count": 8,
   "metadata": {
    "collapsed": false
   },
   "outputs": [
    {
     "name": "stdout",
     "output_type": "stream",
     "text": [
      "|------------------+------------|\n",
      "|  column          | data_type  |\n",
      "|------------------+------------|\n",
      "|  FY15            | Text       |\n",
      "|  JOIN15          | Text       |\n",
      "|  COUNTY15        | Text       |\n",
      "|  CODISTSCH15     | Number     |\n",
      "|  SCHOOLNAME15    | Text       |\n",
      "|  SCHOOLTYPE15    | Text       |\n",
      "|  GRADE15         | Text       |\n",
      "|  ENROLLED15      | Number     |\n",
      "|  FREEREDUCED15   | Number     |\n",
      "|  PERCENT15       | Number     |\n",
      "|  WARNING15       | Text       |\n",
      "|  CEP_Indicator15 | Text       |\n",
      "|  FY14            | Text       |\n",
      "|  COUNTY14        | Text       |\n",
      "|  CODISTSCH14     | Number     |\n",
      "|  SCHOOLNAME14    | Text       |\n",
      "|  SCHOOLTYPE14    | Text       |\n",
      "|  GRADE14         | Text       |\n",
      "|  ENROLLED14      | Number     |\n",
      "|  FREEREDUCED14   | Number     |\n",
      "|  ...             | ...        |\n",
      "|------------------+------------|\n",
      "\n",
      "1181\n"
     ]
    }
   ],
   "source": [
    "print(frlTotal)\n",
    "print(len(frlTotal.rows))"
   ]
  },
  {
   "cell_type": "markdown",
   "metadata": {},
   "source": [
    "We lost a few records, but that's likely because of reporting problems or changes between the reports.\n",
    "\n",
    "Now, we need to filter out records that don't have a value for `FREEREDUCED`."
   ]
  },
  {
   "cell_type": "code",
   "execution_count": 9,
   "metadata": {
    "collapsed": true
   },
   "outputs": [],
   "source": [
    "frlTotalFiltered1 = frlTotal.where(lambda row: row['FREEREDUCED15'] != None)\n",
    "frlTotalFiltered2 = frlTotalFiltered1.where(lambda row: row['FREEREDUCED14'] != None)\n",
    "frlTotalFiltered3 = frlTotalFiltered2.where(lambda row: row['FREEREDUCED13'] != None)"
   ]
  },
  {
   "cell_type": "markdown",
   "metadata": {},
   "source": [
    "Then, we can compute the percent change of `FREEREDUCED` from 2013 to 2015. I also decided to find the percent change of `ENROLLMENT`, as I wanted to see the relationship."
   ]
  },
  {
   "cell_type": "code",
   "execution_count": 10,
   "metadata": {
    "collapsed": false
   },
   "outputs": [],
   "source": [
    "change = frlTotalFiltered3.compute([\n",
    "        ('Enrollment_change', agate.PercentChange('ENROLLED15', 'ENROLLED13')),\n",
    "        ('FreeReduced_change', agate.PercentChange('FREEREDUCED15', 'FREEREDUCED13'))\n",
    "    ])"
   ]
  },
  {
   "cell_type": "markdown",
   "metadata": {},
   "source": [
    "Now we'll sort the table by the `FREEREDUCED` percent change."
   ]
  },
  {
   "cell_type": "code",
   "execution_count": 11,
   "metadata": {
    "collapsed": true
   },
   "outputs": [],
   "source": [
    "sorted_change = change.order_by('FreeReduced_change', reverse=True)"
   ]
  },
  {
   "cell_type": "markdown",
   "metadata": {},
   "source": [
    "And we'll select the columns we want for printing."
   ]
  },
  {
   "cell_type": "code",
   "execution_count": 12,
   "metadata": {
    "collapsed": true
   },
   "outputs": [],
   "source": [
    "for_printing = sorted_change.select(['SCHOOLNAME15','Enrollment_change', 'FreeReduced_change'])"
   ]
  },
  {
   "cell_type": "markdown",
   "metadata": {},
   "source": [
    "And print it."
   ]
  },
  {
   "cell_type": "code",
   "execution_count": 13,
   "metadata": {
    "collapsed": false
   },
   "outputs": [
    {
     "name": "stdout",
     "output_type": "stream",
     "text": [
      "|-----------------------+----------------------+-----------------------|\n",
      "|  SCHOOLNAME15         |    Enrollment_change |   FreeReduced_change  |\n",
      "|-----------------------+----------------------+-----------------------|\n",
      "|  MAYWOOD HIGH SCHOOL  | 20.00000000000000... | 169.2307692307692...  |\n",
      "|  WHEELER CENTRAL HIGH | 51.61290322580645... | 150.0000000000000...  |\n",
      "|  WEEPING WATER HIG... | 73.11827956989247... | 138.0952380952380...  |\n",
      "|  LYNCH SECONDARY S... | 46.87500000000000... | 127.2727272727272...  |\n",
      "|  LOCKWOOD PRESCHOOL   | 10.52631578947368... | 127.2727272727272...  |\n",
      "|  SPALDING ACADEMY ... | 5.128205128205128... | 125.0000000000000...  |\n",
      "|  ST MARY ELEMENTAR... | -6.52173913043478... | 120.0000000000000...  |\n",
      "|  ZION LUTHERAN ELE... | 152.7777777777777... | 110.0000000000000...  |\n",
      "|  UPCHURCH ELEMENTARY  | 12.84246575342465... | 109.5238095238095...  |\n",
      "|  BEEMER ELEMENTARY... | 102.8571428571428... | 100.0000000000000...  |\n",
      "|  STRATTON ELEMENTA... | 22.58064516129032... | 100.0000000000000...  |\n",
      "|  HAY SPRINGS HIGH ... | 22.50000000000000... | 100.0000000000000...  |\n",
      "|  ELKHORN MIDDLE SC... | 71.01449275362318... | 95.00000000000000...  |\n",
      "|  CAMBRIDGE HIGH SC... | 53.27102803738317... | 90.24390243902439...  |\n",
      "|  ELEMENTARY SCHOOL... | 3.726708074534161... | 87.50000000000000...  |\n",
      "|  BRADY HIGH SCHOOL    | 12.50000000000000... | 80.76923076923076...  |\n",
      "|  CODY-KILGORE HIGH... | 34.37500000000000... | 75.75757575757575...  |\n",
      "|  ZION LUTHERAN ELE... | -5.20833333333333... | 75.00000000000000...  |\n",
      "|  VERDIGRE MIDDLE S... | 63.63636363636363... | 72.72727272727272...  |\n",
      "|  MAYWOOD ELEMENTAR... | 7.339449541284403... | 67.74193548387096...  |\n",
      "|  ...                  |                  ... |                  ...  |\n",
      "|-----------------------+----------------------+-----------------------|\n"
     ]
    }
   ],
   "source": [
    "for_printing.print_table()"
   ]
  },
  {
   "cell_type": "markdown",
   "metadata": {},
   "source": [
    "It's a little hard to read. Let's round those percent changes."
   ]
  },
  {
   "cell_type": "code",
   "execution_count": 14,
   "metadata": {
    "collapsed": true
   },
   "outputs": [],
   "source": [
    "from decimal import Decimal\n",
    "\n",
    "def round_frchange(row):\n",
    "    return row['FreeReduced_change'].quantize(Decimal('0.1'))\n",
    "\n",
    "roundedFR_change = sorted_change.compute([\n",
    "        ('FreeReduced_rounded', agate.Formula(agate.Number(), round_frchange))\n",
    "    ])"
   ]
  },
  {
   "cell_type": "code",
   "execution_count": 15,
   "metadata": {
    "collapsed": true
   },
   "outputs": [],
   "source": [
    "def round_enrollchange(row):\n",
    "    return row['Enrollment_change'].quantize(Decimal('0.1'))\n",
    "\n",
    "roundedEnroll_change = roundedFR_change.compute([\n",
    "        ('Enrollment_rounded', agate.Formula(agate.Number(), round_enrollchange))\n",
    "    ])"
   ]
  },
  {
   "cell_type": "markdown",
   "metadata": {},
   "source": [
    "Now, we'll select our columns again and print the table."
   ]
  },
  {
   "cell_type": "code",
   "execution_count": 16,
   "metadata": {
    "collapsed": true
   },
   "outputs": [],
   "source": [
    "rounded_for_printing = roundedEnroll_change.select(['SCHOOLNAME15', 'FreeReduced_rounded', 'Enrollment_rounded'])"
   ]
  },
  {
   "cell_type": "code",
   "execution_count": 17,
   "metadata": {
    "collapsed": false
   },
   "outputs": [
    {
     "name": "stdout",
     "output_type": "stream",
     "text": [
      "|-----------------------+---------------------+---------------------|\n",
      "|  SCHOOLNAME15         | FreeReduced_rounded | Enrollment_rounded  |\n",
      "|-----------------------+---------------------+---------------------|\n",
      "|  MAYWOOD HIGH SCHOOL  |               169.2 |               20.0  |\n",
      "|  WHEELER CENTRAL HIGH |               150.0 |               51.6  |\n",
      "|  WEEPING WATER HIG... |               138.1 |               73.1  |\n",
      "|  LYNCH SECONDARY S... |               127.3 |               46.9  |\n",
      "|  LOCKWOOD PRESCHOOL   |               127.3 |               10.5  |\n",
      "|  SPALDING ACADEMY ... |               125.0 |                5.1  |\n",
      "|  ST MARY ELEMENTAR... |               120.0 |               -6.5  |\n",
      "|  ZION LUTHERAN ELE... |               110.0 |              152.8  |\n",
      "|  UPCHURCH ELEMENTARY  |               109.5 |               12.8  |\n",
      "|  BEEMER ELEMENTARY... |               100.0 |              102.9  |\n",
      "|  STRATTON ELEMENTA... |               100.0 |               22.6  |\n",
      "|  HAY SPRINGS HIGH ... |               100.0 |               22.5  |\n",
      "|  ELKHORN MIDDLE SC... |                95.0 |               71.0  |\n",
      "|  CAMBRIDGE HIGH SC... |                90.2 |               53.3  |\n",
      "|  ELEMENTARY SCHOOL... |                87.5 |                3.7  |\n",
      "|  BRADY HIGH SCHOOL    |                80.8 |               12.5  |\n",
      "|  CODY-KILGORE HIGH... |                75.8 |               34.4  |\n",
      "|  ZION LUTHERAN ELE... |                75.0 |               -5.2  |\n",
      "|  VERDIGRE MIDDLE S... |                72.7 |               63.6  |\n",
      "|  MAYWOOD ELEMENTAR... |                67.7 |                7.3  |\n",
      "|  ...                  |                 ... |                ...  |\n",
      "|-----------------------+---------------------+---------------------|\n"
     ]
    }
   ],
   "source": [
    "rounded_for_printing.print_table()"
   ]
  },
  {
   "cell_type": "markdown",
   "metadata": {},
   "source": [
    "Looks like Maywood High School saw the largest increase in participation in free and reduced school lunches."
   ]
  }
 ],
 "metadata": {
  "kernelspec": {
   "display_name": "Python 3",
   "language": "python",
   "name": "python3"
  },
  "language_info": {
   "codemirror_mode": {
    "name": "ipython",
    "version": 3
   },
   "file_extension": ".py",
   "mimetype": "text/x-python",
   "name": "python",
   "nbconvert_exporter": "python",
   "pygments_lexer": "ipython3",
   "version": "3.5.2"
  }
 },
 "nbformat": 4,
 "nbformat_minor": 0
}
