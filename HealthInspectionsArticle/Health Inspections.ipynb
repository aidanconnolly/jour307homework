{
 "cells": [
  {
   "cell_type": "markdown",
   "metadata": {},
   "source": [
    "First, I imported agate."
   ]
  },
  {
   "cell_type": "code",
   "execution_count": 2,
   "metadata": {
    "collapsed": true
   },
   "outputs": [],
   "source": [
    "import agate"
   ]
  },
  {
   "cell_type": "markdown",
   "metadata": {},
   "source": [
    "Then, I imported that data into a table named `inspections`."
   ]
  },
  {
   "cell_type": "code",
   "execution_count": 3,
   "metadata": {
    "collapsed": false
   },
   "outputs": [],
   "source": [
    "inspections = agate.Table.from_csv('LincolnRatings.csv')"
   ]
  },
  {
   "cell_type": "markdown",
   "metadata": {},
   "source": [
    "Print that out to see the column names and types."
   ]
  },
  {
   "cell_type": "code",
   "execution_count": 4,
   "metadata": {
    "collapsed": false
   },
   "outputs": [
    {
     "name": "stdout",
     "output_type": "stream",
     "text": [
      "|--------------------------+---------------|\n",
      "|  column_names            | column_types  |\n",
      "|--------------------------+---------------|\n",
      "|  Restaurant              | Text          |\n",
      "|  Address                 | Date          |\n",
      "|  Inspection Date         | Date          |\n",
      "|  Last Rating             | Number        |\n",
      "|  3-Year Average Rating   | Number        |\n",
      "|  Critical Violations     | Number        |\n",
      "|  Non-Critical Violations | Number        |\n",
      "|  Critical1               | Text          |\n",
      "|  Critical2               | Text          |\n",
      "|  Critical3               | Text          |\n",
      "|  Critical4               | Text          |\n",
      "|  Critical5               | Text          |\n",
      "|  Critical6               | Text          |\n",
      "|  Non-Critical1           | Text          |\n",
      "|  Non-Critical2           | Text          |\n",
      "|  Non-Critical3           | Text          |\n",
      "|  Non-Critical4           | Text          |\n",
      "|  Non-Critical5           | Text          |\n",
      "|  Non-Critical6           | Text          |\n",
      "|  Non-Critical7           | Text          |\n",
      "|  Non-Critical8           | Text          |\n",
      "|  Non-Critical9           | Text          |\n",
      "|  Non-Critical10          | Text          |\n",
      "|--------------------------+---------------|\n",
      "\n"
     ]
    }
   ],
   "source": [
    "print(inspections)"
   ]
  },
  {
   "cell_type": "markdown",
   "metadata": {},
   "source": [
    "I then checked the length."
   ]
  },
  {
   "cell_type": "code",
   "execution_count": 5,
   "metadata": {
    "collapsed": false
   },
   "outputs": [
    {
     "name": "stdout",
     "output_type": "stream",
     "text": [
      "16\n"
     ]
    }
   ],
   "source": [
    "print(len(inspections.rows))"
   ]
  },
  {
   "cell_type": "markdown",
   "metadata": {},
   "source": [
    "I then found the mean number of critical violations and the median number of critical violations."
   ]
  },
  {
   "cell_type": "code",
   "execution_count": 6,
   "metadata": {
    "collapsed": false
   },
   "outputs": [
    {
     "name": "stdout",
     "output_type": "stream",
     "text": [
      "3\n"
     ]
    }
   ],
   "source": [
    "avg_critical = inspections.aggregate(agate.Mean('Critical Violations'))\n",
    "print(avg_critical)"
   ]
  },
  {
   "cell_type": "code",
   "execution_count": 7,
   "metadata": {
    "collapsed": false
   },
   "outputs": [
    {
     "name": "stdout",
     "output_type": "stream",
     "text": [
      "3\n"
     ]
    }
   ],
   "source": [
    "med_critical = inspections.aggregate(agate.Median('Critical Violations'))\n",
    "print(med_critical)"
   ]
  },
  {
   "cell_type": "markdown",
   "metadata": {},
   "source": [
    "And then found the mean number of non-critical violations and the median number of non-critical violations."
   ]
  },
  {
   "cell_type": "code",
   "execution_count": 8,
   "metadata": {
    "collapsed": false
   },
   "outputs": [
    {
     "name": "stdout",
     "output_type": "stream",
     "text": [
      "4.4375\n"
     ]
    }
   ],
   "source": [
    "avg_noncritical = inspections.aggregate(agate.Mean('Non-Critical Violations'))\n",
    "print(avg_noncritical)"
   ]
  },
  {
   "cell_type": "code",
   "execution_count": 9,
   "metadata": {
    "collapsed": false
   },
   "outputs": [
    {
     "name": "stdout",
     "output_type": "stream",
     "text": [
      "3.5\n"
     ]
    }
   ],
   "source": [
    "med_noncritical = inspections.aggregate(agate.Median('Non-Critical Violations'))\n",
    "print(med_noncritical)"
   ]
  },
  {
   "cell_type": "markdown",
   "metadata": {},
   "source": [
    "I then sorted the data by the number of critical violations. I created a new table with only the columns that I was interested in, and then I printed it out."
   ]
  },
  {
   "cell_type": "code",
   "execution_count": 18,
   "metadata": {
    "collapsed": false
   },
   "outputs": [
    {
     "name": "stdout",
     "output_type": "stream",
     "text": [
      "|-----------------------------------+-----------------+---------------------+--------------------------|\n",
      "|  Restaurant                       | Inspection Date | Critical Violations | Non-Critical Violations  |\n",
      "|-----------------------------------+-----------------+---------------------+--------------------------|\n",
      "|  Abel Hall                        |      2015-11-19 |                   6 |                       0  |\n",
      "|  Panera Bread 1374                |      2015-09-18 |                   4 |                       7  |\n",
      "|  Amigos 015                       |      2015-12-02 |                   4 |                       7  |\n",
      "|  Buffalo Wild Wings               |      2015-12-03 |                   4 |                       7  |\n",
      "|  Jimmy John's Gourmet Sandwiches  |      2015-10-08 |                   4 |                       6  |\n",
      "|  Selleck Hall                     |      2015-12-17 |                   4 |                       3  |\n",
      "|  Misty's Steakhouse & Brewery     |      2015-12-04 |                   3 |                       3  |\n",
      "|  Raising Cane's Chicken Fingers   |      2015-12-07 |                   3 |                       7  |\n",
      "|  Bison Witches Bar & Deli         |      2015-12-03 |                   3 |                      10  |\n",
      "|  Harper Hall                      |      2015-10-15 |                   3 |                       2  |\n",
      "|  East Union                       |      2015-12-17 |                   3 |                       2  |\n",
      "|  Wendy's Old Fashioned Hamburgers |      2015-10-26 |                   2 |                       4  |\n",
      "|  Cather Hall                      |      2015-12-18 |                   2 |                       6  |\n",
      "|  Chipotle Mexican Grill           |      2016-01-26 |                   1 |                       2  |\n",
      "|  Qdoba Mexican Grill 2647         |      2015-12-14 |                   1 |                       2  |\n",
      "|  Arby's Roast Beef 577            |      2015-10-26 |                   1 |                       3  |\n",
      "|-----------------------------------+-----------------+---------------------+--------------------------|\n"
     ]
    }
   ],
   "source": [
    "sorted_critical = inspections.order_by('Critical Violations', reverse=True)\n",
    "critical_printing = sorted_critical.select(['Restaurant', 'Inspection Date', 'Critical Violations', 'Non-Critical Violations'])\n",
    "critical_printing.print_table()"
   ]
  },
  {
   "cell_type": "markdown",
   "metadata": {},
   "source": [
    "Same thing for the non-critical violations."
   ]
  },
  {
   "cell_type": "code",
   "execution_count": 20,
   "metadata": {
    "collapsed": false
   },
   "outputs": [
    {
     "name": "stdout",
     "output_type": "stream",
     "text": [
      "|-----------------------------------+-----------------+---------------------+--------------------------|\n",
      "|  Restaurant                       | Inspection Date | Critical Violations | Non-Critical Violations  |\n",
      "|-----------------------------------+-----------------+---------------------+--------------------------|\n",
      "|  Bison Witches Bar & Deli         |      2015-12-03 |                   3 |                      10  |\n",
      "|  Panera Bread 1374                |      2015-09-18 |                   4 |                       7  |\n",
      "|  Amigos 015                       |      2015-12-02 |                   4 |                       7  |\n",
      "|  Raising Cane's Chicken Fingers   |      2015-12-07 |                   3 |                       7  |\n",
      "|  Buffalo Wild Wings               |      2015-12-03 |                   4 |                       7  |\n",
      "|  Jimmy John's Gourmet Sandwiches  |      2015-10-08 |                   4 |                       6  |\n",
      "|  Cather Hall                      |      2015-12-18 |                   2 |                       6  |\n",
      "|  Wendy's Old Fashioned Hamburgers |      2015-10-26 |                   2 |                       4  |\n",
      "|  Arby's Roast Beef 577            |      2015-10-26 |                   1 |                       3  |\n",
      "|  Misty's Steakhouse & Brewery     |      2015-12-04 |                   3 |                       3  |\n",
      "|  Selleck Hall                     |      2015-12-17 |                   4 |                       3  |\n",
      "|  Chipotle Mexican Grill           |      2016-01-26 |                   1 |                       2  |\n",
      "|  Qdoba Mexican Grill 2647         |      2015-12-14 |                   1 |                       2  |\n",
      "|  Harper Hall                      |      2015-10-15 |                   3 |                       2  |\n",
      "|  East Union                       |      2015-12-17 |                   3 |                       2  |\n",
      "|  Abel Hall                        |      2015-11-19 |                   6 |                       0  |\n",
      "|-----------------------------------+-----------------+---------------------+--------------------------|\n"
     ]
    }
   ],
   "source": [
    "sorted_noncritical = inspections.order_by('Non-Critical Violations', reverse=True)\n",
    "noncritical_printing = sorted_noncritical.select(['Restaurant', 'Inspection Date', 'Critical Violations', 'Non-Critical Violations'])\n",
    "noncritical_printing.print_table()"
   ]
  },
  {
   "cell_type": "markdown",
   "metadata": {},
   "source": [
    "I then created a graph using each table of sorted data and printed it out."
   ]
  },
  {
   "cell_type": "code",
   "execution_count": 17,
   "metadata": {
    "collapsed": false
   },
   "outputs": [
    {
     "name": "stdout",
     "output_type": "stream",
     "text": [
      "Restaurant                       Critical Violations\n",
      "Abel Hall                                          6 ▓░░░░░░░░░░░░░░░░░░░░░░░░░░░░░░░░░░░░░░░░░░░░░░\n",
      "Panera Bread 1374                                  4 ▓░░░░░░░░░░░░░░░░░░░░░░░░░░░░░░░               \n",
      "Amigos 015                                         4 ▓░░░░░░░░░░░░░░░░░░░░░░░░░░░░░░░               \n",
      "Buffalo Wild Wings                                 4 ▓░░░░░░░░░░░░░░░░░░░░░░░░░░░░░░░               \n",
      "Jimmy John's Gourmet Sandwiches                    4 ▓░░░░░░░░░░░░░░░░░░░░░░░░░░░░░░░               \n",
      "Selleck Hall                                       4 ▓░░░░░░░░░░░░░░░░░░░░░░░░░░░░░░░               \n",
      "Misty's Steakhouse & Brewery                       3 ▓░░░░░░░░░░░░░░░░░░░░░░░                       \n",
      "Raising Cane's Chicken Fingers                     3 ▓░░░░░░░░░░░░░░░░░░░░░░░                       \n",
      "Bison Witches Bar & Deli                           3 ▓░░░░░░░░░░░░░░░░░░░░░░░                       \n",
      "Harper Hall                                        3 ▓░░░░░░░░░░░░░░░░░░░░░░░                       \n",
      "East Union                                         3 ▓░░░░░░░░░░░░░░░░░░░░░░░                       \n",
      "Wendy's Old Fashioned Hamburgers                   2 ▓░░░░░░░░░░░░░░░                               \n",
      "Cather Hall                                        2 ▓░░░░░░░░░░░░░░░                               \n",
      "Chipotle Mexican Grill                             1 ▓░░░░░░░░                                      \n",
      "Qdoba Mexican Grill 2647                           1 ▓░░░░░░░░                                      \n",
      "Arby's Roast Beef 577                              1 ▓░░░░░░░░                                      \n",
      "                                                     +-----------+----------+----------+-----------+\n",
      "                                                     0.0        1.5        3.0        4.5        6.0\n"
     ]
    }
   ],
   "source": [
    "sorted_critical.print_bars('Restaurant', 'Critical Violations', width = 100)"
   ]
  },
  {
   "cell_type": "code",
   "execution_count": 21,
   "metadata": {
    "collapsed": false
   },
   "outputs": [
    {
     "name": "stdout",
     "output_type": "stream",
     "text": [
      "Restaurant                       Non-Critical Violations\n",
      "Bison Witches Bar & Deli                              10 ▓░░░░░░░░░░░░░░░░░░░░░░░░░░░░░░░░░░░░░░░░░░\n",
      "Panera Bread 1374                                      7 ▓░░░░░░░░░░░░░░░░░░░░░░░░░░░░░             \n",
      "Amigos 015                                             7 ▓░░░░░░░░░░░░░░░░░░░░░░░░░░░░░             \n",
      "Raising Cane's Chicken Fingers                         7 ▓░░░░░░░░░░░░░░░░░░░░░░░░░░░░░             \n",
      "Buffalo Wild Wings                                     7 ▓░░░░░░░░░░░░░░░░░░░░░░░░░░░░░             \n",
      "Jimmy John's Gourmet Sandwiches                        6 ▓░░░░░░░░░░░░░░░░░░░░░░░░░                 \n",
      "Cather Hall                                            6 ▓░░░░░░░░░░░░░░░░░░░░░░░░░                 \n",
      "Wendy's Old Fashioned Hamburgers                       4 ▓░░░░░░░░░░░░░░░░░                         \n",
      "Arby's Roast Beef 577                                  3 ▓░░░░░░░░░░░░░                             \n",
      "Misty's Steakhouse & Brewery                           3 ▓░░░░░░░░░░░░░                             \n",
      "Selleck Hall                                           3 ▓░░░░░░░░░░░░░                             \n",
      "Chipotle Mexican Grill                                 2 ▓░░░░░░░░                                  \n",
      "Qdoba Mexican Grill 2647                               2 ▓░░░░░░░░                                  \n",
      "Harper Hall                                            2 ▓░░░░░░░░                                  \n",
      "East Union                                             2 ▓░░░░░░░░                                  \n",
      "Abel Hall                                              0 ▓                                          \n",
      "                                                         +---------+----------+----------+---------+\n",
      "                                                         0.0      2.5        5.0        7.5     10.0\n"
     ]
    }
   ],
   "source": [
    "sorted_noncritical.print_bars('Restaurant', 'Non-Critical Violations', width = 100)"
   ]
  },
  {
   "cell_type": "code",
   "execution_count": null,
   "metadata": {
    "collapsed": true
   },
   "outputs": [],
   "source": []
  }
 ],
 "metadata": {
  "kernelspec": {
   "display_name": "Python 3",
   "language": "python",
   "name": "python3"
  },
  "language_info": {
   "codemirror_mode": {
    "name": "ipython",
    "version": 3
   },
   "file_extension": ".py",
   "mimetype": "text/x-python",
   "name": "python",
   "nbconvert_exporter": "python",
   "pygments_lexer": "ipython3",
   "version": "3.5.1"
  }
 },
 "nbformat": 4,
 "nbformat_minor": 0
}
