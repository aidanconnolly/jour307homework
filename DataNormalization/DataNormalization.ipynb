{
 "cells": [
  {
   "cell_type": "markdown",
   "metadata": {},
   "source": [
    "# Data Normalization\n",
    "\n",
    "The assignment:\n",
    ">In this assignment, you must take a file from the Nebraska Department of Environmental Quality and make it useful. I want to know how many leaking underground storage tanks there are in each city in Nebraska.  \n",
    ">  \n",
    ">To do this, you will need to:  \n",
    ">\n",
    ">1. Get the file from the DEQ. The file you want is called spillfac.csv, but keep this page handy because it has some filter conditions you're going to need.\n",
    "2. The file that comes from the state is not UTF-8. Follow the walkthrough. Use Excel and csvkit to zap the non-UTF-8 characters.\n",
    "3. Normalize the data using Open Refine. Specifically, the fields you need to normalize are the owner company -- OWNCO -- and the city the tank is in -- SPCITY.\n",
    "4. Export your newly cleaned data into a new csv file.\n",
    "5. Import your newly cleaned up data into Agate.\n",
    "6. Filter out any leaking underground storage tanks that aren't leaking. (see the documentation from where you downloaded the file)\n",
    "7. Group it by the OWNCO and count them.\n",
    "8. Sort it.\n",
    "8. Print the top 20 to the screen.\n",
    "\n",
    "\n",
    "Import agate."
   ]
  },
  {
   "cell_type": "code",
   "execution_count": 1,
   "metadata": {
    "collapsed": true
   },
   "outputs": [],
   "source": [
    "import agate"
   ]
  },
  {
   "cell_type": "markdown",
   "metadata": {},
   "source": [
    "Create a table named `lust` from our .csv"
   ]
  },
  {
   "cell_type": "code",
   "execution_count": 2,
   "metadata": {
    "collapsed": true
   },
   "outputs": [],
   "source": [
    "lust = agate.Table.from_csv('filteredlustfinal.csv')"
   ]
  },
  {
   "cell_type": "markdown",
   "metadata": {},
   "source": [
    "Print it to see column headers."
   ]
  },
  {
   "cell_type": "code",
   "execution_count": 3,
   "metadata": {
    "collapsed": false
   },
   "outputs": [
    {
     "name": "stdout",
     "output_type": "stream",
     "text": [
      "|--------------------------------------+------------|\n",
      "|  column                              | data_type  |\n",
      "|--------------------------------------+------------|\n",
      "|  SPILLNO-------                      | Text       |\n",
      "|  S                                   | Text       |\n",
      "|  OWNCO--------------------           | Text       |\n",
      "|  OWNSTREET-----------                | Text       |\n",
      "|  OWNCITY-------------                | Text       |\n",
      "|  OS                                  | Text       |\n",
      "|  OZIP                                | Text       |\n",
      "|  TY                                  | Number     |\n",
      "|  DIDATE----                          | Date       |\n",
      "|  SPLOC     ------------------------- | Text       |\n",
      "|  SPCITY-------------------           | Text       |\n",
      "|  SPCOUN-------------------           | Text       |\n",
      "|  MATERIAL----------------------      | Text       |\n",
      "|  SFM_ID--                            | Text       |\n",
      "|  FAC_NAME-----------------           | Text       |\n",
      "|--------------------------------------+------------|\n",
      "\n"
     ]
    }
   ],
   "source": [
    "print(lust)"
   ]
  },
  {
   "cell_type": "markdown",
   "metadata": {},
   "source": [
    "Create a new table with records grouped by OWNCO."
   ]
  },
  {
   "cell_type": "code",
   "execution_count": 4,
   "metadata": {
    "collapsed": false
   },
   "outputs": [],
   "source": [
    "by_OWNCO = lust.group_by('OWNCO--------------------')"
   ]
  },
  {
   "cell_type": "markdown",
   "metadata": {},
   "source": [
    "Here we count how many of each OWNCO there are."
   ]
  },
  {
   "cell_type": "code",
   "execution_count": 5,
   "metadata": {
    "collapsed": true
   },
   "outputs": [],
   "source": [
    "totals = by_OWNCO.aggregate([\n",
    "        ('count', agate.Count())\n",
    "    ])"
   ]
  },
  {
   "cell_type": "markdown",
   "metadata": {},
   "source": [
    "Then we sort by that number."
   ]
  },
  {
   "cell_type": "code",
   "execution_count": 6,
   "metadata": {
    "collapsed": true
   },
   "outputs": [],
   "source": [
    "sorted_OWNCO = totals.order_by('count', reverse=True)"
   ]
  },
  {
   "cell_type": "markdown",
   "metadata": {},
   "source": [
    "And we print it."
   ]
  },
  {
   "cell_type": "code",
   "execution_count": 7,
   "metadata": {
    "collapsed": false
   },
   "outputs": [
    {
     "name": "stdout",
     "output_type": "stream",
     "text": [
      "|-----------------------+--------|\n",
      "|  OWNCO------------... | count  |\n",
      "|-----------------------+--------|\n",
      "|  UNKNOWN              |   277  |\n",
      "|  BNSF                 |    28  |\n",
      "|  BENSON 66 SERVICE... |    13  |\n",
      "|  BOSSELMAN INC        |    10  |\n",
      "|  PILOT/FLYING J       |     9  |\n",
      "|  UPRR                 |     9  |\n",
      "|  SAPP BROS INC        |     8  |\n",
      "|  WHITEHEAD OIL CO     |     7  |\n",
      "|  OFFUTT A F B         |     6  |\n",
      "|  ARMY CORPS OF ENG... |     5  |\n",
      "|  CITY OF OMAHA        |     5  |\n",
      "|  CONTEMPORARY INDU... |     5  |\n",
      "|  RITEWAY OIL & GAS... |     5  |\n",
      "|  AG VALLEY COOP       |     4  |\n",
      "|  BUCKYS INC           |     4  |\n",
      "|  CASEYS GENERAL STORE |     4  |\n",
      "|  KWIK STOP            |     4  |\n",
      "|  NEBR DEPT OF ROADS   |     4  |\n",
      "|  SINCLAIR OIL         |     4  |\n",
      "|  CENTERGAS INC        |     3  |\n",
      "|  ...                  |   ...  |\n",
      "|-----------------------+--------|\n"
     ]
    }
   ],
   "source": [
    "sorted_OWNCO.print_table(max_rows=20)"
   ]
  }
 ],
 "metadata": {
  "kernelspec": {
   "display_name": "Python 3",
   "language": "python",
   "name": "python3"
  },
  "language_info": {
   "codemirror_mode": {
    "name": "ipython",
    "version": 3
   },
   "file_extension": ".py",
   "mimetype": "text/x-python",
   "name": "python",
   "nbconvert_exporter": "python",
   "pygments_lexer": "ipython3",
   "version": "3.5.2"
  }
 },
 "nbformat": 4,
 "nbformat_minor": 0
}
