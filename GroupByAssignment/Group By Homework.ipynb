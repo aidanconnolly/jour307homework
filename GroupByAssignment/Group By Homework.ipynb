{
 "cells": [
  {
   "cell_type": "markdown",
   "metadata": {},
   "source": [
    "# Homework 1 - UNL Salaries"
   ]
  },
  {
   "cell_type": "markdown",
   "metadata": {},
   "source": [
    "*2/2/2016*\n",
    "\n",
    "Aidan Connolly"
   ]
  },
  {
   "cell_type": "markdown",
   "metadata": {},
   "source": [
    "First, we import agate in order to use it."
   ]
  },
  {
   "cell_type": "code",
   "execution_count": 1,
   "metadata": {
    "collapsed": true
   },
   "outputs": [],
   "source": [
    "import agate"
   ]
  },
  {
   "cell_type": "markdown",
   "metadata": {},
   "source": [
    "Next, we bring the info from a .csv file into a table using the `agate.Table.from_csv` function."
   ]
  },
  {
   "cell_type": "code",
   "execution_count": 2,
   "metadata": {
    "collapsed": true
   },
   "outputs": [],
   "source": [
    "salaries = agate.Table.from_csv('nusalaries1415.csv')"
   ]
  },
  {
   "cell_type": "markdown",
   "metadata": {},
   "source": [
    "We then use the `print` function to see the table's column names and types."
   ]
  },
  {
   "cell_type": "code",
   "execution_count": 3,
   "metadata": {
    "collapsed": false,
    "scrolled": false
   },
   "outputs": [
    {
     "name": "stdout",
     "output_type": "stream",
     "text": [
      "|-------------------+---------------|\n",
      "|  column_names     | column_types  |\n",
      "|-------------------+---------------|\n",
      "|  ID               | Number        |\n",
      "|  Campus           | Text          |\n",
      "|  DepartmentNumber | Date          |\n",
      "|  DepartmentName   | Text          |\n",
      "|  CostElement      | Number        |\n",
      "|  Name             | Text          |\n",
      "|  Title            | Text          |\n",
      "|  Position         | Number        |\n",
      "|  Class            | Number        |\n",
      "|  Term             | Number        |\n",
      "|  FTE              | Number        |\n",
      "|  Salary           | Number        |\n",
      "|-------------------+---------------|\n",
      "\n"
     ]
    }
   ],
   "source": [
    "print(salaries)"
   ]
  },
  {
   "cell_type": "markdown",
   "metadata": {},
   "source": [
    "We only want the salaries of people who work at the University of Nebraska-Lincoln. So, we use the `where` function to filter the table's contents. We filter the contents by only selecting records with a `'Campus'` field of `'UNIVERSITY OF NEBRASKA-LINCOLN'`. That is saved to the new variable, `filtered_salaries`."
   ]
  },
  {
   "cell_type": "code",
   "execution_count": 4,
   "metadata": {
    "collapsed": false
   },
   "outputs": [],
   "source": [
    "filtered_salaries = salaries.where(lambda row: row['Campus'] == 'UNIVERSITY OF NEBRASKA - LINCOLN')"
   ]
  },
  {
   "cell_type": "markdown",
   "metadata": {
    "collapsed": true
   },
   "source": [
    "Now we use agate's `Mean` function to calculate an average salary. That's saved to the variable, `average_salary`."
   ]
  },
  {
   "cell_type": "code",
   "execution_count": 5,
   "metadata": {
    "collapsed": true
   },
   "outputs": [],
   "source": [
    "average_salary = filtered_salaries.aggregate(agate.Mean('Salary'))"
   ]
  },
  {
   "cell_type": "markdown",
   "metadata": {},
   "source": [
    "We can print `average_salary` to see its value."
   ]
  },
  {
   "cell_type": "code",
   "execution_count": 6,
   "metadata": {
    "collapsed": false
   },
   "outputs": [
    {
     "name": "stdout",
     "output_type": "stream",
     "text": [
      "71766.36931491076568796776051\n"
     ]
    }
   ],
   "source": [
    "print(average_salary)"
   ]
  },
  {
   "cell_type": "markdown",
   "metadata": {},
   "source": [
    "And if we want to make it look pretty...\n",
    "\n",
    "`{:,.2f}` formats the string.\n",
    "\n",
    "`,` places commmas to divide the number\n",
    "\n",
    "`.2f` rounds the number to two decimals\n",
    "\n",
    "`sep=''` removes the space between the dollar sign and number"
   ]
  },
  {
   "cell_type": "code",
   "execution_count": 7,
   "metadata": {
    "collapsed": false
   },
   "outputs": [
    {
     "name": "stdout",
     "output_type": "stream",
     "text": [
      "$71,766.37\n"
     ]
    }
   ],
   "source": [
    "print(\"$\", \"{:,.2f}\".format(average_salary), sep='')"
   ]
  },
  {
   "cell_type": "markdown",
   "metadata": {},
   "source": [
    "To find the median salary, we simply use agate's `Median` function."
   ]
  },
  {
   "cell_type": "code",
   "execution_count": 8,
   "metadata": {
    "collapsed": true
   },
   "outputs": [],
   "source": [
    "median_salary = filtered_salaries.aggregate(agate.Median('Salary'))"
   ]
  },
  {
   "cell_type": "markdown",
   "metadata": {},
   "source": [
    "And we can print that value as well."
   ]
  },
  {
   "cell_type": "code",
   "execution_count": 10,
   "metadata": {
    "collapsed": false
   },
   "outputs": [
    {
     "name": "stdout",
     "output_type": "stream",
     "text": [
      "54200\n"
     ]
    }
   ],
   "source": [
    "print(median_salary)"
   ]
  },
  {
   "cell_type": "code",
   "execution_count": 11,
   "metadata": {
    "collapsed": false
   },
   "outputs": [
    {
     "name": "stdout",
     "output_type": "stream",
     "text": [
      "$54,200.00\n"
     ]
    }
   ],
   "source": [
    "print(\"$\", \"{:,.2f}\".format(median_salary), sep='')"
   ]
  },
  {
   "cell_type": "markdown",
   "metadata": {},
   "source": [
    "Now, we want to group the average salaries by the title. To do that, we use the `group_by`."
   ]
  },
  {
   "cell_type": "code",
   "execution_count": 6,
   "metadata": {
    "collapsed": false
   },
   "outputs": [],
   "source": [
    "by_title = filtered_salaries.group_by('Title')"
   ]
  },
  {
   "cell_type": "markdown",
   "metadata": {},
   "source": [
    "We haven't actually created a table yet, so we do that now with the `aggregate` function."
   ]
  },
  {
   "cell_type": "code",
   "execution_count": 7,
   "metadata": {
    "collapsed": false
   },
   "outputs": [],
   "source": [
    "title_totals = by_title.aggregate([\n",
    "    ('count', agate.Length()),\n",
    "    ('average', agate.Mean('Salary')),\n",
    "    ('median', agate.Median('Salary'))\n",
    "])"
   ]
  },
  {
   "cell_type": "markdown",
   "metadata": {},
   "source": [
    "Then, we sort by the number of records with that Title, from greatest to least."
   ]
  },
  {
   "cell_type": "code",
   "execution_count": 9,
   "metadata": {
    "collapsed": true
   },
   "outputs": [],
   "source": [
    "sorted_titles = title_totals.order_by('count', reverse=True)"
   ]
  },
  {
   "cell_type": "markdown",
   "metadata": {},
   "source": [
    "Finally, we print the table, with a limit of 50 rows."
   ]
  },
  {
   "cell_type": "code",
   "execution_count": 10,
   "metadata": {
    "collapsed": false
   },
   "outputs": [
    {
     "name": "stdout",
     "output_type": "stream",
     "text": [
      "|----------------------------------+-------+--------------------------------+------------|\n",
      "|  Title                           | count |                        average |    median  |\n",
      "|----------------------------------+-------+--------------------------------+------------|\n",
      "|  Professor                       |   788 | 129,447.2131979695431472081218 | 122,289.0  |\n",
      "|  Associate Professor             |   324 |  83,942.1049382716049382716049 |  77,648.0  |\n",
      "|  Assistant Professor             |   184 |  79,873.3152173913043478260870 |  71,050.0  |\n",
      "|  Custodian II                    |   181 |  24,498.8453038674033149171271 |  23,893.0  |\n",
      "|  Asst Professor                  |   152 |  83,441.4605263157894736842105 |  83,353.0  |\n",
      "|  Assoc Professor                 |   127 |  96,058.7716535433070866141732 |  93,592.0  |\n",
      "|  Director                        |    86 | 139,503.9302325581395348837209 | 142,127.5  |\n",
      "|  Office Assoc                    |    81 |  34,750.0987654320987654320988 |  34,290.0  |\n",
      "|  Rsch Technologist I             |    63 |  38,035.6825396825396825396825 |  36,476.0  |\n",
      "|  Ag Rsch Technician II           |    63 |  37,418.8412698412698412698413 |  34,907.0  |\n",
      "|  Residence Hall Custodian II     |    57 |  23,683.5789473684210526315790 |  22,904.0  |\n",
      "|  Dining Service Associate        |    50 |  22,662.2000000000000000000000 |  22,360.0  |\n",
      "|  Post-Doc Rsch Assoc             |    50 |  39,825.6600000000000000000000 |  40,270.0  |\n",
      "|  Assistant Director              |    47 |  58,696.7659574468085106382979 |  55,764.0  |\n",
      "|  Assistant Professor of Practice |    46 |  68,461.5869565217391304347826 |  66,106.5  |\n",
      "|  Extension Educator              |    43 |  87,412.1395348837209302325581 |  86,480.0  |\n",
      "|  Asst Exten Educator             |    41 |  50,110.7560975609756097560976 |  46,686.0  |\n",
      "|  Staff Secy III                  |    40 |  31,389.1000000000000000000000 |  31,467.5  |\n",
      "|  Ag Rsch Technician I            |    39 |  29,592.3076923076923076923077 |  27,534.0  |\n",
      "|  Rsch Technologist II            |    38 |  42,368.8157894736842105263158 |  42,201.5  |\n",
      "|  Ag Rsch Technician III          |    38 |  41,310.5789473684210526315790 |  40,916.5  |\n",
      "|  Cler Asst III                   |    36 |  33,699.0555555555555555555556 |  33,606.0  |\n",
      "|  Assoc Exten Educator            |    34 |  57,107.3529411764705882352941 |  56,504.0  |\n",
      "|  Associate Director              |    33 |  84,660.1212121212121212121212 |  85,256.0  |\n",
      "|  Chairperson                     |    33 | 139,271.5454545454545454545455 | 138,800.0  |\n",
      "|  Exten Educator                  |    33 |  73,839.1212121212121212121212 |  71,385.0  |\n",
      "|  Staff Assistant                 |    32 |  35,045.7500000000000000000000 |  35,012.0  |\n",
      "|  Admin Support Assoc             |    31 |  37,964.0322580645161290322581 |  35,852.0  |\n",
      "|  Lecturer                        |    30 |  53,786.1666666666666666666667 |  48,403.0  |\n",
      "|  Research Assistant Professor    |    29 |  60,412.0344827586206896551724 |  60,000.0  |\n",
      "|  Dining Service Team Leader      |    27 |  31,158.9259259259259259259259 |  28,898.0  |\n",
      "|  Manager                         |    26 |  66,805.2307692307692307692308 |  67,650.0  |\n",
      "|  Department Head                 |    26 | 183,279.0769230769230769230769 | 184,748.0  |\n",
      "|  Business Manager                |    25 |  59,706.4800000000000000000000 |  59,008.0  |\n",
      "|  Sr Dining Service Associate     |    24 |  26,886.5000000000000000000000 |  26,319.0  |\n",
      "|  Coordinator                     |    23 |  71,418.2608695652173913043478 |  59,356.0  |\n",
      "|  Administrative Tech I           |    22 |  40,560.4090909090909090909091 |  39,241.0  |\n",
      "|  Associate Professor of Practice |    22 |  79,191.8636363636363636363636 |  72,253.5  |\n",
      "|  Rsch Asst Professor             |    22 |  65,182.5000000000000000000000 |  62,844.5  |\n",
      "|  Custodial Specialist            |    21 |  27,840.1428571428571428571429 |  25,995.0  |\n",
      "|  Police Officer                  |    21 |  54,060.9047619047619047619048 |  53,830.0  |\n",
      "|  Office Associate                |    20 |  30,998.4000000000000000000000 |  29,954.5  |\n",
      "|  Administrative Technician       |    19 |  33,098.1578947368421052631579 |  33,594.0  |\n",
      "|  Accounting Assoc                |    19 |  36,092.5263157894736842105263 |  35,521.0  |\n",
      "|  Accounting Technician           |    18 |  34,996.7222222222222222222222 |  35,086.0  |\n",
      "|  Project Manager                 |    18 |  58,241.5555555555555555555556 |  59,889.0  |\n",
      "|  Office Asst                     |    18 |  30,980.7222222222222222222222 |  27,311.0  |\n",
      "|  Residence Hall Custodial Leader |    17 |  30,440.7058823529411764705882 |  29,888.0  |\n",
      "|  Rsch Mgr Lab I                  |    17 |  51,431.4705882352941176470588 |  49,575.0  |\n",
      "|  Administrative Coordinator      |    16 |  40,730.0000000000000000000000 |  40,955.0  |\n",
      "|  ...                             |   ... |                            ... |       ...  |\n",
      "|----------------------------------+-------+--------------------------------+------------|\n"
     ]
    }
   ],
   "source": [
    "sorted_titles.print_table(max_rows=50)"
   ]
  },
  {
   "cell_type": "code",
   "execution_count": null,
   "metadata": {
    "collapsed": true
   },
   "outputs": [],
   "source": []
  }
 ],
 "metadata": {
  "kernelspec": {
   "display_name": "Python 3",
   "language": "python",
   "name": "python3"
  },
  "language_info": {
   "codemirror_mode": {
    "name": "ipython",
    "version": 3
   },
   "file_extension": ".py",
   "mimetype": "text/x-python",
   "name": "python",
   "nbconvert_exporter": "python",
   "pygments_lexer": "ipython3",
   "version": "3.5.1"
  }
 },
 "nbformat": 4,
 "nbformat_minor": 0
}
