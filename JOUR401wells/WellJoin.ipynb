{
 "cells": [
  {
   "cell_type": "code",
   "execution_count": 1,
   "metadata": {
    "collapsed": true
   },
   "outputs": [],
   "source": [
    "import agate"
   ]
  },
  {
   "cell_type": "code",
   "execution_count": 2,
   "metadata": {
    "collapsed": false
   },
   "outputs": [],
   "source": [
    "wells = agate.Table.from_csv('wells.csv')"
   ]
  },
  {
   "cell_type": "code",
   "execution_count": 3,
   "metadata": {
    "collapsed": true
   },
   "outputs": [],
   "source": [
    "levels = agate.Table.from_csv('levels.csv')"
   ]
  },
  {
   "cell_type": "code",
   "execution_count": 10,
   "metadata": {
    "collapsed": false
   },
   "outputs": [
    {
     "name": "stdout",
     "output_type": "stream",
     "text": [
      "|-------------------+---------------|\n",
      "|  column_names     | column_types  |\n",
      "|-------------------+---------------|\n",
      "|  CSD_ID           | Text          |\n",
      "|  CSD_Rplc_ID      | Text          |\n",
      "|  USGS_ID          | Text          |\n",
      "|  Susp_USGS_ID     | Text          |\n",
      "|  REGNUM           | Text          |\n",
      "|  Other_ID_1       | Text          |\n",
      "|  AgencyID2        | Text          |\n",
      "|  Other_ID_2       | Number        |\n",
      "|  Other_ID_3       | Number        |\n",
      "|  Legal            | Text          |\n",
      "|  County           | Text          |\n",
      "|  NRD              | Text          |\n",
      "|  NRDDivision      | Text          |\n",
      "|  SurfWatBasin     | Text          |\n",
      "|  TWN              | Number        |\n",
      "|  RNG              | Number        |\n",
      "|  RLTR             | Text          |\n",
      "|  SEC              | Number        |\n",
      "|  QTR              | Text          |\n",
      "|  LatDD            | Number        |\n",
      "|  LongDD           | Number        |\n",
      "|  LLCoordMeth      | Text          |\n",
      "|  LLCoordAccy      | Text          |\n",
      "|  Datum            | Text          |\n",
      "|  Datum_Dtrmnate   | Text          |\n",
      "|  Agency           | Text          |\n",
      "|  MoTripDay        | Number        |\n",
      "|  MoTripStopOrder  | Number        |\n",
      "|  First_Meas       | Text          |\n",
      "|  Predvl           | Number        |\n",
      "|  Old_Pred_6-14    | Number        |\n",
      "|  Predevelopment   | Number        |\n",
      "|  Predvl_Dtrmnate  | Text          |\n",
      "|  Aquifer          | Text          |\n",
      "|  Primary_Aqfr     | Boolean       |\n",
      "|  Hyd_Unit_Code    | Number        |\n",
      "|  Local_GWR        | Boolean       |\n",
      "|  Confinement      | Text          |\n",
      "|  Surf_Elev        | Text          |\n",
      "|  ElevCoordMeth    | Text          |\n",
      "|  ElevCoordAccy    | Number        |\n",
      "|  SurElev_Dtrmnate | Text          |\n",
      "|  MP_Elev          | Number        |\n",
      "|  MP_Dscpt         | Boolean       |\n",
      "|  Constr_Date      | Text          |\n",
      "|  WellType         | Text          |\n",
      "|  Well_Dpth        | Number        |\n",
      "|  Pump_Dia         | Text          |\n",
      "|  Casing_Dia       | Text          |\n",
      "|  Scrn_Top         | Number        |\n",
      "|  Scrn_Bot         | Number        |\n",
      "|  Scrn_Lngth       | Text          |\n",
      "|  Slot_Size        | Text          |\n",
      "|  Scrn_Top2        | Number        |\n",
      "|  Scrn_Bot2        | Number        |\n",
      "|  Scrn_Lngth2      | Number        |\n",
      "|  Slot_Size2       | Number        |\n",
      "|  Scrn_Top3        | Number        |\n",
      "|  Scrn_Bot3        | Number        |\n",
      "|  Scrn_Lngth3      | Boolean       |\n",
      "|  Slot_Size3       | Boolean       |\n",
      "|  Quality_Lvl      | Text          |\n",
      "|  Comments         | Text          |\n",
      "|  New              | Text          |\n",
      "|  Year_Added       | Boolean       |\n",
      "|-------------------+---------------|\n",
      "\n"
     ]
    }
   ],
   "source": [
    "print(wells)"
   ]
  },
  {
   "cell_type": "code",
   "execution_count": 9,
   "metadata": {
    "collapsed": false
   },
   "outputs": [],
   "source": [
    "wells2 = wells.select(['CSD_ID', 'County', 'NRD', 'SurfWatBasin', 'LatDD', 'LongDD'])"
   ]
  },
  {
   "cell_type": "code",
   "execution_count": 11,
   "metadata": {
    "collapsed": false
   },
   "outputs": [
    {
     "name": "stdout",
     "output_type": "stream",
     "text": [
      "|---------------+---------------|\n",
      "|  column_names | column_types  |\n",
      "|---------------+---------------|\n",
      "|  CSD_ID       | Text          |\n",
      "|  YearMsr      | Number        |\n",
      "|  DateMsr      | Text          |\n",
      "|  DateFlag     | Text          |\n",
      "|  Season       | Text          |\n",
      "|  Hold         | Number        |\n",
      "|  Cut          | Number        |\n",
      "|  Msr_Pt       | Number        |\n",
      "|  WatLevel     | Number        |\n",
      "|  Msmt_method  | Text          |\n",
      "|  Comment      | Text          |\n",
      "|  Quality_Lvl  | Text          |\n",
      "|  Common       | Boolean       |\n",
      "|  DataSource   | Text          |\n",
      "|---------------+---------------|\n",
      "\n"
     ]
    }
   ],
   "source": [
    "print(levels)"
   ]
  },
  {
   "cell_type": "code",
   "execution_count": 12,
   "metadata": {
    "collapsed": false
   },
   "outputs": [
    {
     "name": "stdout",
     "output_type": "stream",
     "text": [
      "|------------------+---------+----------+----------+--------+--------+-----+--------+----------+-------------+---------+-------------+--------+-------------|\n",
      "|  CSD_ID          | YearMsr | DateMsr  | DateFlag | Season |   Hold | Cut | Msr_Pt | WatLevel | Msmt_method | Comment | Quality_Lvl | Common | DataSource  |\n",
      "|------------------+---------+----------+----------+--------+--------+-----+--------+----------+-------------+---------+-------------+--------+-------------|\n",
      "|  402718098461501 |   2,007 | 10/12/07 |          | Fall   |        |     |        |    90.79 |             |         |             |  False | USGS        |\n",
      "|  402718098461501 |   2,008 | 4/8/08   |          | Spring |        |     |        |    89.60 |             |         |             |  False | USGS        |\n",
      "|  402718098461501 |   2,008 | 10/30/08 |          | Fall   |        |     |        |    89.72 |             |         |             |  False | USGS        |\n",
      "|  402718098461501 |   2,009 | 4/21/09  |          | Spring |        |     |        |    87.92 |             |         |             |  False | USGS        |\n",
      "|  402718098461501 |   2,009 | 10/16/09 |          | Fall   |        |     |        |    90.02 |             |         |             |  False | USGS        |\n",
      "|  402718098461501 |   2,010 | 5/3/10   |          | Spring |        |     |        |    88.03 |             |         |             |  False | USGS        |\n",
      "|  402718098461501 |   2,010 | 10/21/10 |          | Fall   |        |     |        |    88.51 |             |         |             |  False | USGS        |\n",
      "|  402708098510401 |   2,009 | 4/23/09  |          | Spring | 108.16 |     |    1.5 |   109.66 | ST          |         |             |  False |             |\n",
      "|  402708098510401 |   2,008 | 10/30/08 |          | Fall   |        |     |    1.5 |   110.09 | ST          |         |             |  False |             |\n",
      "|  402708098510401 |   2,008 | 4/9/08   |          | Spring |        |     |        |   109.50 |             |         |             |  False |             |\n",
      "|  ...             |     ... | ...      | ...      | ...    |    ... | ... |    ... |      ... | ...         | ...     | ...         |    ... | ...         |\n",
      "|------------------+---------+----------+----------+--------+--------+-----+--------+----------+-------------+---------+-------------+--------+-------------|\n"
     ]
    }
   ],
   "source": [
    "levels.print_table(max_rows=10)"
   ]
  },
  {
   "cell_type": "code",
   "execution_count": 13,
   "metadata": {
    "collapsed": true
   },
   "outputs": [],
   "source": [
    "levels2 = levels.select(['CSD_ID', 'YearMsr', 'DateMsr', 'Season', 'WatLevel'])"
   ]
  },
  {
   "cell_type": "code",
   "execution_count": 14,
   "metadata": {
    "collapsed": false
   },
   "outputs": [
    {
     "name": "stdout",
     "output_type": "stream",
     "text": [
      "23426\n"
     ]
    }
   ],
   "source": [
    "print(len(wells2.rows))"
   ]
  },
  {
   "cell_type": "code",
   "execution_count": 15,
   "metadata": {
    "collapsed": false
   },
   "outputs": [
    {
     "name": "stdout",
     "output_type": "stream",
     "text": [
      "735223\n"
     ]
    }
   ],
   "source": [
    "print(len(levels2.rows))"
   ]
  },
  {
   "cell_type": "code",
   "execution_count": 16,
   "metadata": {
    "collapsed": true
   },
   "outputs": [],
   "source": [
    "well_levels = wells2.join(levels2, 'CSD_ID', 'CSD_ID', inner=True)"
   ]
  },
  {
   "cell_type": "code",
   "execution_count": 17,
   "metadata": {
    "collapsed": false
   },
   "outputs": [
    {
     "name": "stdout",
     "output_type": "stream",
     "text": [
      "735214\n"
     ]
    }
   ],
   "source": [
    "print(len(well_levels.rows))"
   ]
  },
  {
   "cell_type": "code",
   "execution_count": 18,
   "metadata": {
    "collapsed": false
   },
   "outputs": [
    {
     "name": "stdout",
     "output_type": "stream",
     "text": [
      "|-----------------+---------+----------------+----------------+----------+-----------+---------+----------+--------+-----------|\n",
      "|  CSD_ID         | County  | NRD            | SurfWatBasin   |    LatDD |    LongDD | YearMsr | DateMsr  | Season | WatLevel  |\n",
      "|-----------------+---------+----------------+----------------+----------+-----------+---------+----------+--------+-----------|\n",
      "|  08N 12W 04 CCA | ADAMS   | LITTLE BLUE    | Central Platte | 40.68450 | -98.68160 |   2,002 | 4/15/02  | Spring |    12.33  |\n",
      "|  08N 12W 04 CCA | ADAMS   | LITTLE BLUE    | Central Platte | 40.68450 | -98.68160 |   2,003 | 4/15/03  | Spring |    14.63  |\n",
      "|  08N 12W 04 CCA | ADAMS   | LITTLE BLUE    | Central Platte | 40.68450 | -98.68160 |   2,004 | 4/15/04  | Spring |    15.89  |\n",
      "|  08N 12W 04 CCA | ADAMS   | LITTLE BLUE    | Central Platte | 40.68450 | -98.68160 |   2,008 | 4/15/08  | Spring |    13.20  |\n",
      "|  08N 12W 04 CCA | ADAMS   | LITTLE BLUE    | Central Platte | 40.68450 | -98.68160 |   2,008 | 10/28/08 | Fall   |    12.02  |\n",
      "|  08N 12W 04 CCA | ADAMS   | LITTLE BLUE    | Central Platte | 40.68450 | -98.68160 |   2,009 | 5/5/09   | Spring |    11.75  |\n",
      "|  08N 12W 04 CCA | ADAMS   | LITTLE BLUE    | Central Platte | 40.68450 | -98.68160 |   2,009 | 10/15/09 | Fall   |    14.10  |\n",
      "|  08N 12W 04 CCA | ADAMS   | LITTLE BLUE    | Central Platte | 40.68450 | -98.68160 |   2,010 | 4/27/10  | Spring |    12.03  |\n",
      "|  08N 12W 04 CCA | ADAMS   | LITTLE BLUE    | Central Platte | 40.68450 | -98.68160 |   2,013 | 4/23/13  | Spring |    15.10  |\n",
      "|  08N 14W 03 CBB | BUFFALO | CENTRAL PLATTE | Central Platte | 40.69077 | -98.89306 |   2,007 | 4/15/07  | Spring |     3.54  |\n",
      "|  ...            | ...     | ...            | ...            |      ... |       ... |     ... | ...      | ...    |      ...  |\n",
      "|-----------------+---------+----------------+----------------+----------+-----------+---------+----------+--------+-----------|\n"
     ]
    }
   ],
   "source": [
    "well_levels.print_table(max_rows=10)"
   ]
  },
  {
   "cell_type": "code",
   "execution_count": 19,
   "metadata": {
    "collapsed": true
   },
   "outputs": [],
   "source": [
    "well_levels.to_csv('welllevels.csv')"
   ]
  },
  {
   "cell_type": "code",
   "execution_count": null,
   "metadata": {
    "collapsed": true
   },
   "outputs": [],
   "source": []
  }
 ],
 "metadata": {
  "kernelspec": {
   "display_name": "Python 3",
   "language": "python",
   "name": "python3"
  },
  "language_info": {
   "codemirror_mode": {
    "name": "ipython",
    "version": 3
   },
   "file_extension": ".py",
   "mimetype": "text/x-python",
   "name": "python",
   "nbconvert_exporter": "python",
   "pygments_lexer": "ipython3",
   "version": "3.5.1"
  }
 },
 "nbformat": 4,
 "nbformat_minor": 0
}
