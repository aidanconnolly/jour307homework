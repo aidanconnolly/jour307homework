{
 "cells": [
  {
   "cell_type": "markdown",
   "metadata": {},
   "source": [
    "# Group by walkthrough\n",
    "By now, you'd better know that you need to import Agate."
   ]
  },
  {
   "cell_type": "code",
   "execution_count": 1,
   "metadata": {
    "collapsed": true
   },
   "outputs": [],
   "source": [
    "import agate"
   ]
  },
  {
   "cell_type": "markdown",
   "metadata": {},
   "source": [
    "And you need data."
   ]
  },
  {
   "cell_type": "code",
   "execution_count": 4,
   "metadata": {
    "collapsed": false
   },
   "outputs": [
    {
     "name": "stdout",
     "output_type": "stream",
     "text": [
      "|---------------+---------------|\n",
      "|  column_names | column_types  |\n",
      "|---------------+---------------|\n",
      "|  ID           | Number        |\n",
      "|  Cofirm Type  | Text          |\n",
      "|  COUNTY       | Text          |\n",
      "|  Date         | Date          |\n",
      "|---------------+---------------|\n",
      "\n"
     ]
    }
   ],
   "source": [
    "mountainlions = agate.Table.from_csv('../../Data/mountainlions.csv')\n",
    "print(mountainlions)"
   ]
  },
  {
   "cell_type": "markdown",
   "metadata": {},
   "source": [
    "First, let's group them together using `group_by`. We'll create a new table, called `by_county` and populate it with the results of our `group_by` statement. The new table is a subset of our first table we created on import, so we'll have to be sure to use that. "
   ]
  },
  {
   "cell_type": "code",
   "execution_count": 5,
   "metadata": {
    "collapsed": true
   },
   "outputs": [],
   "source": [
    "by_county = mountainlions.group_by('COUNTY')"
   ]
  },
  {
   "cell_type": "code",
   "execution_count": 6,
   "metadata": {
    "collapsed": false
   },
   "outputs": [
    {
     "name": "stdout",
     "output_type": "stream",
     "text": [
      "42\n"
     ]
    }
   ],
   "source": [
    "print(len(by_county))"
   ]
  },
  {
   "cell_type": "markdown",
   "metadata": {},
   "source": [
    "So that means 42 counties had mountain lion sightings. Out of 93 Nebraska counties. That's a chunk. However, it helps to know what by using group_by, we haven't actually created a new table. We've created a TableSet. Which is why you can't print it and see it."
   ]
  },
  {
   "cell_type": "code",
   "execution_count": 9,
   "metadata": {
    "collapsed": false
   },
   "outputs": [
    {
     "ename": "AttributeError",
     "evalue": "'function' object has no attribute 'allow_tableset_proxy'",
     "output_type": "error",
     "traceback": [
      "\u001b[0;31m---------------------------------------------------------------------------\u001b[0m",
      "\u001b[0;31mAttributeError\u001b[0m                            Traceback (most recent call last)",
      "\u001b[0;32m<ipython-input-9-27a489864901>\u001b[0m in \u001b[0;36m<module>\u001b[0;34m()\u001b[0m\n\u001b[0;32m----> 1\u001b[0;31m \u001b[0mby_county\u001b[0m\u001b[0;34m.\u001b[0m\u001b[0mprint_table\u001b[0m\u001b[0;34m(\u001b[0m\u001b[0;34m)\u001b[0m\u001b[0;34m\u001b[0m\u001b[0m\n\u001b[0m",
      "\u001b[0;32m/Users/mattwaite/anaconda/envs/homework/lib/python3.5/site-packages/agate/tableset.py\u001b[0m in \u001b[0;36m__getattr__\u001b[0;34m(self, name)\u001b[0m\n\u001b[1;32m    115\u001b[0m         \u001b[0;31m# Proxy table methods\u001b[0m\u001b[0;34m\u001b[0m\u001b[0;34m\u001b[0m\u001b[0m\n\u001b[1;32m    116\u001b[0m         \u001b[0;32mif\u001b[0m \u001b[0mname\u001b[0m \u001b[0;32min\u001b[0m \u001b[0mTable\u001b[0m\u001b[0;34m.\u001b[0m\u001b[0m__dict__\u001b[0m\u001b[0;34m:\u001b[0m\u001b[0;34m\u001b[0m\u001b[0m\n\u001b[0;32m--> 117\u001b[0;31m             \u001b[0;32mif\u001b[0m \u001b[0mTable\u001b[0m\u001b[0;34m.\u001b[0m\u001b[0m__dict__\u001b[0m\u001b[0;34m[\u001b[0m\u001b[0mname\u001b[0m\u001b[0;34m]\u001b[0m\u001b[0;34m.\u001b[0m\u001b[0mallow_tableset_proxy\u001b[0m\u001b[0;34m:\u001b[0m\u001b[0;34m\u001b[0m\u001b[0m\n\u001b[0m\u001b[1;32m    118\u001b[0m                 \u001b[0;32mreturn\u001b[0m \u001b[0mTableMethodProxy\u001b[0m\u001b[0;34m(\u001b[0m\u001b[0mself\u001b[0m\u001b[0;34m,\u001b[0m \u001b[0mname\u001b[0m\u001b[0;34m)\u001b[0m\u001b[0;34m\u001b[0m\u001b[0m\n\u001b[1;32m    119\u001b[0m \u001b[0;34m\u001b[0m\u001b[0m\n",
      "\u001b[0;31mAttributeError\u001b[0m: 'function' object has no attribute 'allow_tableset_proxy'"
     ]
    }
   ],
   "source": [
    "by_county.print_table()"
   ]
  },
  {
   "cell_type": "markdown",
   "metadata": {},
   "source": [
    "To make something out of a `group_by` TableSet, we have to run some aggregates on it. That looks like this:"
   ]
  },
  {
   "cell_type": "code",
   "execution_count": 10,
   "metadata": {
    "collapsed": true
   },
   "outputs": [],
   "source": [
    "county_totals = by_county.aggregate([\n",
    "    ('count', agate.Length())\n",
    "])"
   ]
  },
  {
   "cell_type": "code",
   "execution_count": 11,
   "metadata": {
    "collapsed": false
   },
   "outputs": [
    {
     "name": "stdout",
     "output_type": "stream",
     "text": [
      "|---------------+--------|\n",
      "|  COUNTY       | count  |\n",
      "|---------------+--------|\n",
      "|  Dawes        |   111  |\n",
      "|  Sioux        |    52  |\n",
      "|  Scotts Bluff |    26  |\n",
      "|  Box Butte    |     4  |\n",
      "|  Howard       |     3  |\n",
      "|  Brown        |    15  |\n",
      "|  Douglas      |     2  |\n",
      "|  Cherry       |    30  |\n",
      "|  Thomas       |     5  |\n",
      "|  Keya Paha    |    20  |\n",
      "|  Dakota       |     3  |\n",
      "|  Sarpy        |     1  |\n",
      "|  Custer       |     8  |\n",
      "|  Sheridan     |    35  |\n",
      "|  Banner       |     6  |\n",
      "|  Knox         |     8  |\n",
      "|  Nance        |     1  |\n",
      "|  Platte       |     1  |\n",
      "|  Dawson       |     5  |\n",
      "|  Rock         |    11  |\n",
      "|  Hooker       |     1  |\n",
      "|  Lincoln      |    10  |\n",
      "|  Polk         |     1  |\n",
      "|  Valley       |     1  |\n",
      "|  Sherman      |     1  |\n",
      "|  Blaine       |     3  |\n",
      "|  Saunders     |     2  |\n",
      "|  Buffalo      |     3  |\n",
      "|  sheridan     |     2  |\n",
      "|  Thurston     |     1  |\n",
      "|  Dixon        |     3  |\n",
      "|  Holt         |     2  |\n",
      "|  Kimball      |     1  |\n",
      "|  Morrill      |     2  |\n",
      "|  Cedar        |     1  |\n",
      "|  Keith        |     1  |\n",
      "|  Merrick      |     1  |\n",
      "|  Hall         |     1  |\n",
      "|  Wheeler      |     1  |\n",
      "|  Richardson   |     2  |\n",
      "|  Nemaha       |     5  |\n",
      "|  Frontier     |     1  |\n",
      "|---------------+--------|\n"
     ]
    }
   ],
   "source": [
    "county_totals.print_table()"
   ]
  },
  {
   "cell_type": "markdown",
   "metadata": {},
   "source": [
    "That's more like it. But it's not in order, so it is sort of bothersome. We can fix that just like we did in the first walkthrough -- with ordering. "
   ]
  },
  {
   "cell_type": "code",
   "execution_count": 14,
   "metadata": {
    "collapsed": false
   },
   "outputs": [
    {
     "name": "stdout",
     "output_type": "stream",
     "text": [
      "|---------------+--------|\n",
      "|  COUNTY       | count  |\n",
      "|---------------+--------|\n",
      "|  Dawes        |   111  |\n",
      "|  Sioux        |    52  |\n",
      "|  Sheridan     |    35  |\n",
      "|  Cherry       |    30  |\n",
      "|  Scotts Bluff |    26  |\n",
      "|  Keya Paha    |    20  |\n",
      "|  Brown        |    15  |\n",
      "|  Rock         |    11  |\n",
      "|  Lincoln      |    10  |\n",
      "|  Custer       |     8  |\n",
      "|  Knox         |     8  |\n",
      "|  Banner       |     6  |\n",
      "|  Thomas       |     5  |\n",
      "|  Dawson       |     5  |\n",
      "|  Nemaha       |     5  |\n",
      "|  Box Butte    |     4  |\n",
      "|  Howard       |     3  |\n",
      "|  Dakota       |     3  |\n",
      "|  Blaine       |     3  |\n",
      "|  Buffalo      |     3  |\n",
      "|  Dixon        |     3  |\n",
      "|  Douglas      |     2  |\n",
      "|  Saunders     |     2  |\n",
      "|  sheridan     |     2  |\n",
      "|  Holt         |     2  |\n",
      "|  Morrill      |     2  |\n",
      "|  Richardson   |     2  |\n",
      "|  Sarpy        |     1  |\n",
      "|  Nance        |     1  |\n",
      "|  Platte       |     1  |\n",
      "|  Hooker       |     1  |\n",
      "|  Polk         |     1  |\n",
      "|  Valley       |     1  |\n",
      "|  Sherman      |     1  |\n",
      "|  Thurston     |     1  |\n",
      "|  Kimball      |     1  |\n",
      "|  Cedar        |     1  |\n",
      "|  Keith        |     1  |\n",
      "|  Merrick      |     1  |\n",
      "|  Hall         |     1  |\n",
      "|  Wheeler      |     1  |\n",
      "|  Frontier     |     1  |\n",
      "|---------------+--------|\n"
     ]
    }
   ],
   "source": [
    "sorted_counties = county_totals.order_by('count', reverse=True)\n",
    "sorted_counties.print_table()"
   ]
  },
  {
   "cell_type": "markdown",
   "metadata": {},
   "source": [
    "A note on `print_table`: You can limit the number of rows you print by addng max_rows=X to the print_table in the parenthesis, like this: "
   ]
  },
  {
   "cell_type": "code",
   "execution_count": 15,
   "metadata": {
    "collapsed": false
   },
   "outputs": [
    {
     "name": "stdout",
     "output_type": "stream",
     "text": [
      "|---------------+--------|\n",
      "|  COUNTY       | count  |\n",
      "|---------------+--------|\n",
      "|  Dawes        |   111  |\n",
      "|  Sioux        |    52  |\n",
      "|  Sheridan     |    35  |\n",
      "|  Cherry       |    30  |\n",
      "|  Scotts Bluff |    26  |\n",
      "|  Keya Paha    |    20  |\n",
      "|  Brown        |    15  |\n",
      "|  Rock         |    11  |\n",
      "|  Lincoln      |    10  |\n",
      "|  Custer       |     8  |\n",
      "|  Knox         |     8  |\n",
      "|  Banner       |     6  |\n",
      "|  Thomas       |     5  |\n",
      "|  Dawson       |     5  |\n",
      "|  Nemaha       |     5  |\n",
      "|  Box Butte    |     4  |\n",
      "|  Howard       |     3  |\n",
      "|  Dakota       |     3  |\n",
      "|  Blaine       |     3  |\n",
      "|  Buffalo      |     3  |\n",
      "|  Dixon        |     3  |\n",
      "|  Douglas      |     2  |\n",
      "|  Saunders     |     2  |\n",
      "|  sheridan     |     2  |\n",
      "|  Holt         |     2  |\n",
      "|  ...          |   ...  |\n",
      "|---------------+--------|\n"
     ]
    }
   ],
   "source": [
    "sorted_counties.print_table(max_rows=25)"
   ]
  },
  {
   "cell_type": "code",
   "execution_count": null,
   "metadata": {
    "collapsed": true
   },
   "outputs": [],
   "source": []
  }
 ],
 "metadata": {
  "kernelspec": {
   "display_name": "Python 3",
   "language": "python",
   "name": "python3"
  },
  "language_info": {
   "codemirror_mode": {
    "name": "ipython",
    "version": 3
   },
   "file_extension": ".py",
   "mimetype": "text/x-python",
   "name": "python",
   "nbconvert_exporter": "python",
   "pygments_lexer": "ipython3",
   "version": "3.5.1"
  }
 },
 "nbformat": 4,
 "nbformat_minor": 0
}
