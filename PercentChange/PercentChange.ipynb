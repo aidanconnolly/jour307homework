{
 "cells": [
  {
   "cell_type": "markdown",
   "metadata": {},
   "source": [
    "# Percent change\n",
    "\n",
    "The assignment:\n",
    ">1. Download this dataset of population estimates from the US Census Bureau.\n",
    "1. Calculate the percent change in population for every county in the US from 2010 to 2014.\n",
    "1. Round that change off to a single decimal point.\n",
    "1. Sort it fastest growing to fastest shrinking. Print it to the screen but limit it to 50.\n",
    "\n",
    "Just like always, we import `agate`."
   ]
  },
  {
   "cell_type": "code",
   "execution_count": 1,
   "metadata": {
    "collapsed": true
   },
   "outputs": [],
   "source": [
    "import agate"
   ]
  },
  {
   "cell_type": "markdown",
   "metadata": {},
   "source": [
    "Next, we import our population data into a table named `population`."
   ]
  },
  {
   "cell_type": "code",
   "execution_count": 2,
   "metadata": {
    "collapsed": false
   },
   "outputs": [],
   "source": [
    "population = agate.Table.from_csv('population.csv')"
   ]
  },
  {
   "cell_type": "markdown",
   "metadata": {},
   "source": [
    "Then, we print it to see its headers."
   ]
  },
  {
   "cell_type": "code",
   "execution_count": 3,
   "metadata": {
    "collapsed": false
   },
   "outputs": [
    {
     "name": "stdout",
     "output_type": "stream",
     "text": [
      "|------------------+------------|\n",
      "|  column          | data_type  |\n",
      "|------------------+------------|\n",
      "|  STNAME          | Text       |\n",
      "|  CTYNAME         | Text       |\n",
      "|  POPESTIMATE2010 | Number     |\n",
      "|  POPESTIMATE2011 | Number     |\n",
      "|  POPESTIMATE2012 | Number     |\n",
      "|  POPESTIMATE2013 | Number     |\n",
      "|  POPESTIMATE2014 | Number     |\n",
      "|------------------+------------|\n",
      "\n"
     ]
    }
   ],
   "source": [
    "print(population)"
   ]
  },
  {
   "cell_type": "markdown",
   "metadata": {},
   "source": [
    "Here, we use the `PercentChange` function to calculate a percent change between `POPESTIMATE2010` and `POPESTIMATE2014`. That new data is then combined with the original data in a new table named `population_rate`."
   ]
  },
  {
   "cell_type": "code",
   "execution_count": 4,
   "metadata": {
    "collapsed": true
   },
   "outputs": [],
   "source": [
    "population_rate = population.compute([\n",
    "        ('change_1014', agate.PercentChange('POPESTIMATE2010', 'POPESTIMATE2014'))\n",
    "    ])"
   ]
  },
  {
   "cell_type": "markdown",
   "metadata": {},
   "source": [
    "Now, we want to print the first few rows to make sure it worked correctly."
   ]
  },
  {
   "cell_type": "code",
   "execution_count": 5,
   "metadata": {
    "collapsed": false
   },
   "outputs": [
    {
     "name": "stdout",
     "output_type": "stream",
     "text": [
      "|----------+-----------------+-----------------+-----------------+-----------------+-----------------+------|\n",
      "|  STNAME  | CTYNAME         | POPESTIMATE2010 | POPESTIMATE2011 | POPESTIMATE2012 | POPESTIMATE2013 | ...  |\n",
      "|----------+-----------------+-----------------+-----------------+-----------------+-----------------+------|\n",
      "|  Alabama | Autauga County  |          54,684 |          55,275 |          55,192 |          55,136 | ...  |\n",
      "|  Alabama | Baldwin County  |         183,216 |         186,694 |         190,561 |         195,443 | ...  |\n",
      "|  Alabama | Barbour County  |          27,336 |          27,225 |          27,169 |          26,978 | ...  |\n",
      "|  Alabama | Bibb County     |          22,879 |          22,740 |          22,634 |          22,504 | ...  |\n",
      "|  Alabama | Blount County   |          57,344 |          57,694 |          57,748 |          57,720 | ...  |\n",
      "|  Alabama | Bullock County  |          10,886 |          10,623 |          10,589 |          10,605 | ...  |\n",
      "|  Alabama | Butler County   |          20,945 |          20,676 |          20,409 |          20,289 | ...  |\n",
      "|  Alabama | Calhoun County  |         118,443 |         117,760 |         117,264 |         116,547 | ...  |\n",
      "|  Alabama | Chambers County |          34,111 |          34,004 |          34,087 |          34,175 | ...  |\n",
      "|  Alabama | Cherokee County |          25,968 |          26,073 |          26,017 |          26,115 | ...  |\n",
      "|  ...     | ...             |             ... |             ... |             ... |             ... | ...  |\n",
      "|----------+-----------------+-----------------+-----------------+-----------------+-----------------+------|\n"
     ]
    }
   ],
   "source": [
    "population_rate.print_table(max_rows=10)"
   ]
  },
  {
   "cell_type": "markdown",
   "metadata": {},
   "source": [
    "It worked, but it's a little messy. Let's only print the columns we want. To do that, we'll create a new table called `for_printing` by selecting columns from `population_rate`."
   ]
  },
  {
   "cell_type": "code",
   "execution_count": 6,
   "metadata": {
    "collapsed": true
   },
   "outputs": [],
   "source": [
    "for_printing = population_rate.select(['STNAME', 'CTYNAME', 'change_1014'])"
   ]
  },
  {
   "cell_type": "markdown",
   "metadata": {},
   "source": [
    "Why don't we also sort our fields while we're at it? We'll use the `order_by` function and create a new table called `sorted_counties`."
   ]
  },
  {
   "cell_type": "code",
   "execution_count": 7,
   "metadata": {
    "collapsed": true
   },
   "outputs": [],
   "source": [
    "sorted_counties = for_printing.order_by('change_1014', reverse=True)"
   ]
  },
  {
   "cell_type": "markdown",
   "metadata": {},
   "source": [
    "Now that we've done all that, let's print the first 50 entries."
   ]
  },
  {
   "cell_type": "code",
   "execution_count": 8,
   "metadata": {
    "collapsed": false
   },
   "outputs": [
    {
     "name": "stdout",
     "output_type": "stream",
     "text": [
      "|---------------+---------------------+-----------------------|\n",
      "|  STNAME       | CTYNAME             |          change_1014  |\n",
      "|---------------+---------------------+-----------------------|\n",
      "|  North Dakota | McKenzie County     | 71.94683346364347...  |\n",
      "|  North Dakota | Williams County     | 42.33819164488548...  |\n",
      "|  North Dakota | Mountrail County    | 26.62783171521035...  |\n",
      "|  North Dakota | Stark County        | 24.71564078347636...  |\n",
      "|  North Dakota | Dunn County         | 24.23044337757695...  |\n",
      "|  Florida      | Sumter County       | 21.27864923054079...  |\n",
      "|  Louisiana    | St. Bernard Parish  | 20.68974888574845...  |\n",
      "|  Montana      | Richland County     | 18.87451222016841...  |\n",
      "|  Texas        | Andrews County      | 17.80923491742500...  |\n",
      "|  Texas        | Sterling County     | 17.76605101143359...  |\n",
      "|  North Dakota | Divide County       | 17.26133076181292...  |\n",
      "|  Virginia     | Fredericksburg city | 17.18750000000000...  |\n",
      "|  Utah         | Wasatch County      | 17.07007983778988...  |\n",
      "|  Texas        | Hays County         | 16.87733328279861...  |\n",
      "|  North Dakota | Billings County     | 16.86121919584954...  |\n",
      "|  Georgia      | Long County         | 16.58151100211186...  |\n",
      "|  Iowa         | Dallas County       | 16.12554762047650...  |\n",
      "|  Texas        | Fort Bend County    | 16.03842748032149...  |\n",
      "|  Georgia      | Forsyth County      | 15.59662096787882...  |\n",
      "|  Texas        | Kendall County      | 15.53891414816795...  |\n",
      "|  Virginia     | Loudoun County      | 15.06949176716692...  |\n",
      "|  Florida      | Osceola County      | 14.97344437402478...  |\n",
      "|  Texas        | Williamson County   | 14.70175200039386...  |\n",
      "|  North Dakota | Burke County        | 14.24936386768447...  |\n",
      "|  South Dakota | Lincoln County      | 14.17054263565891...  |\n",
      "|  Florida      | St. Johns County    | 13.94040479564146...  |\n",
      "|  Texas        | Midland County      | 13.76030252370766...  |\n",
      "|  Utah         | Uintah County       | 13.68528169231243...  |\n",
      "|  Texas        | Martin County       | 13.34855719327382...  |\n",
      "|  Texas        | Comal County        | 13.18582775154642...  |\n",
      "|  Texas        | Crane County        | 13.11700182815356...  |\n",
      "|  Texas        | McMullen County     | 13.06179775280898...  |\n",
      "|  Texas        | Denton County       | 12.95847590030857...  |\n",
      "|  Texas        | Montgomery County   | 12.95674337916638...  |\n",
      "|  Texas        | Collin County       | 12.25931054772701...  |\n",
      "|  Texas        | Ector County        | 12.25838451326788...  |\n",
      "|  Texas        | Reagan County       | 12.05610265592360...  |\n",
      "|  Arizona      | Greenlee County     | 12.02205441687642...  |\n",
      "|  Alabama      | Russell County      | 11.87897670752078...  |\n",
      "|  North Dakota | Ward County         | 11.74746335963923...  |\n",
      "|  Texas        | Travis County       | 11.71360279025622...  |\n",
      "|  Georgia      | Bryan County        | 11.52922601230222...  |\n",
      "|  Tennessee    | Williamson County   | 11.49466501510311...  |\n",
      "|  Georgia      | Columbia County     | 11.44572045936537...  |\n",
      "|  Utah         | Morgan County       | 11.44027734005672...  |\n",
      "|  Montana      | Wibaux County       | 11.43141153081510...  |\n",
      "|  Oklahoma     | Canadian County     | 11.37449719806098...  |\n",
      "|  Florida      | Walton County       | 11.35643833137272...  |\n",
      "|  Mississippi  | Lafayette County    | 11.34953192384558...  |\n",
      "|  Texas        | Rockwall County     | 11.19708232552838...  |\n",
      "|  ...          | ...                 |                  ...  |\n",
      "|---------------+---------------------+-----------------------|\n"
     ]
    }
   ],
   "source": [
    "sorted_counties.print_table(max_rows=50)"
   ]
  },
  {
   "cell_type": "markdown",
   "metadata": {},
   "source": [
    "That worked, but those decimals are ugly. Let's round those off. To be honest, I'm not entirely sure how this works, but Matt says it does, so I'm going with it."
   ]
  },
  {
   "cell_type": "code",
   "execution_count": 9,
   "metadata": {
    "collapsed": true
   },
   "outputs": [],
   "source": [
    "from decimal import Decimal\n",
    "\n",
    "def round_popchange(row):\n",
    "    return row['change_1014'].quantize(Decimal('0.1'))\n",
    "\n",
    "rounded_change = sorted_counties.compute([\n",
    "        ('pop_rounded', agate.Formula(agate.Number(), round_popchange))\n",
    "    ])\n",
    "\n"
   ]
  },
  {
   "cell_type": "markdown",
   "metadata": {},
   "source": [
    "Now we'll create a new table called `for_rate_printing` with the new rounded numbers. "
   ]
  },
  {
   "cell_type": "code",
   "execution_count": 10,
   "metadata": {
    "collapsed": true
   },
   "outputs": [],
   "source": [
    "for_rate_printing = rounded_change.select(['STNAME', 'CTYNAME', 'pop_rounded'])"
   ]
  },
  {
   "cell_type": "markdown",
   "metadata": {},
   "source": [
    "Then, we'll print the first 50 entries."
   ]
  },
  {
   "cell_type": "code",
   "execution_count": 11,
   "metadata": {
    "collapsed": false
   },
   "outputs": [
    {
     "name": "stdout",
     "output_type": "stream",
     "text": [
      "|---------------+---------------------+--------------|\n",
      "|  STNAME       | CTYNAME             | pop_rounded  |\n",
      "|---------------+---------------------+--------------|\n",
      "|  North Dakota | McKenzie County     |        71.9  |\n",
      "|  North Dakota | Williams County     |        42.3  |\n",
      "|  North Dakota | Mountrail County    |        26.6  |\n",
      "|  North Dakota | Stark County        |        24.7  |\n",
      "|  North Dakota | Dunn County         |        24.2  |\n",
      "|  Florida      | Sumter County       |        21.3  |\n",
      "|  Louisiana    | St. Bernard Parish  |        20.7  |\n",
      "|  Montana      | Richland County     |        18.9  |\n",
      "|  Texas        | Andrews County      |        17.8  |\n",
      "|  Texas        | Sterling County     |        17.8  |\n",
      "|  North Dakota | Divide County       |        17.3  |\n",
      "|  Virginia     | Fredericksburg city |        17.2  |\n",
      "|  Utah         | Wasatch County      |        17.1  |\n",
      "|  Texas        | Hays County         |        16.9  |\n",
      "|  North Dakota | Billings County     |        16.9  |\n",
      "|  Georgia      | Long County         |        16.6  |\n",
      "|  Iowa         | Dallas County       |        16.1  |\n",
      "|  Texas        | Fort Bend County    |        16.0  |\n",
      "|  Georgia      | Forsyth County      |        15.6  |\n",
      "|  Texas        | Kendall County      |        15.5  |\n",
      "|  Virginia     | Loudoun County      |        15.1  |\n",
      "|  Florida      | Osceola County      |        15.0  |\n",
      "|  Texas        | Williamson County   |        14.7  |\n",
      "|  North Dakota | Burke County        |        14.2  |\n",
      "|  South Dakota | Lincoln County      |        14.2  |\n",
      "|  Florida      | St. Johns County    |        13.9  |\n",
      "|  Texas        | Midland County      |        13.8  |\n",
      "|  Utah         | Uintah County       |        13.7  |\n",
      "|  Texas        | Martin County       |        13.3  |\n",
      "|  Texas        | Comal County        |        13.2  |\n",
      "|  Texas        | Crane County        |        13.1  |\n",
      "|  Texas        | McMullen County     |        13.1  |\n",
      "|  Texas        | Denton County       |        13.0  |\n",
      "|  Texas        | Montgomery County   |        13.0  |\n",
      "|  Texas        | Collin County       |        12.3  |\n",
      "|  Texas        | Ector County        |        12.3  |\n",
      "|  Texas        | Reagan County       |        12.1  |\n",
      "|  Arizona      | Greenlee County     |        12.0  |\n",
      "|  Alabama      | Russell County      |        11.9  |\n",
      "|  North Dakota | Ward County         |        11.7  |\n",
      "|  Texas        | Travis County       |        11.7  |\n",
      "|  Georgia      | Bryan County        |        11.5  |\n",
      "|  Tennessee    | Williamson County   |        11.5  |\n",
      "|  Georgia      | Columbia County     |        11.4  |\n",
      "|  Utah         | Morgan County       |        11.4  |\n",
      "|  Montana      | Wibaux County       |        11.4  |\n",
      "|  Oklahoma     | Canadian County     |        11.4  |\n",
      "|  Florida      | Walton County       |        11.4  |\n",
      "|  Mississippi  | Lafayette County    |        11.3  |\n",
      "|  Texas        | Rockwall County     |        11.2  |\n",
      "|  ...          | ...                 |         ...  |\n",
      "|---------------+---------------------+--------------|\n"
     ]
    }
   ],
   "source": [
    "for_rate_printing.print_table(max_rows = 50)"
   ]
  }
 ],
 "metadata": {
  "kernelspec": {
   "display_name": "Python 3",
   "language": "python",
   "name": "python3"
  },
  "language_info": {
   "codemirror_mode": {
    "name": "ipython",
    "version": 3
   },
   "file_extension": ".py",
   "mimetype": "text/x-python",
   "name": "python",
   "nbconvert_exporter": "python",
   "pygments_lexer": "ipython3",
   "version": "3.5.2"
  }
 },
 "nbformat": 4,
 "nbformat_minor": 0
}
