{
 "cells": [
  {
   "cell_type": "markdown",
   "metadata": {},
   "source": [
    "Just like always, we import `agate`."
   ]
  },
  {
   "cell_type": "code",
   "execution_count": 1,
   "metadata": {
    "collapsed": true
   },
   "outputs": [],
   "source": [
    "import agate"
   ]
  },
  {
   "cell_type": "markdown",
   "metadata": {},
   "source": [
    "Next, we import our population data into a table named `population`."
   ]
  },
  {
   "cell_type": "code",
   "execution_count": 2,
   "metadata": {
    "collapsed": false
   },
   "outputs": [],
   "source": [
    "population = agate.Table.from_csv('population.csv')"
   ]
  },
  {
   "cell_type": "markdown",
   "metadata": {},
   "source": [
    "Then, we print it to see its headers."
   ]
  },
  {
   "cell_type": "code",
   "execution_count": 15,
   "metadata": {
    "collapsed": false
   },
   "outputs": [
    {
     "name": "stdout",
     "output_type": "stream",
     "text": [
      "|------------------+---------------|\n",
      "|  column_names    | column_types  |\n",
      "|------------------+---------------|\n",
      "|  STNAME          | Text          |\n",
      "|  CTYNAME         | Text          |\n",
      "|  POPESTIMATE2010 | Number        |\n",
      "|  POPESTIMATE2011 | Number        |\n",
      "|  POPESTIMATE2012 | Number        |\n",
      "|  POPESTIMATE2013 | Number        |\n",
      "|  POPESTIMATE2014 | Number        |\n",
      "|------------------+---------------|\n",
      "\n"
     ]
    }
   ],
   "source": [
    "print(population)"
   ]
  },
  {
   "cell_type": "markdown",
   "metadata": {},
   "source": [
    "Here, we use the `PercentChange` function to calculate a percent change between `POPESTIMATE2010` and `POPESTIMATE2014`. That new data is then combined with the original data in a new table named `population_rate`."
   ]
  },
  {
   "cell_type": "code",
   "execution_count": 16,
   "metadata": {
    "collapsed": true
   },
   "outputs": [],
   "source": [
    "population_rate = population.compute([\n",
    "        ('change_1014', agate.PercentChange('POPESTIMATE2010', 'POPESTIMATE2014'))\n",
    "    ])"
   ]
  },
  {
   "cell_type": "markdown",
   "metadata": {},
   "source": [
    "Now, we want to print the first few rows to make sure it worked correctly."
   ]
  },
  {
   "cell_type": "code",
   "execution_count": 17,
   "metadata": {
    "collapsed": false
   },
   "outputs": [
    {
     "name": "stdout",
     "output_type": "stream",
     "text": [
      "|----------+-----------------+-----------------+-----------------+-----------------+-----------------+-----------------+---------------------------------|\n",
      "|  STNAME  | CTYNAME         | POPESTIMATE2010 | POPESTIMATE2011 | POPESTIMATE2012 | POPESTIMATE2013 | POPESTIMATE2014 |                    change_1014  |\n",
      "|----------+-----------------+-----------------+-----------------+-----------------+-----------------+-----------------+---------------------------------|\n",
      "|  Alabama | Autauga County  |          54,684 |          55,275 |          55,192 |          55,136 |          55,395 |  1.300197498354180381830151415  |\n",
      "|  Alabama | Baldwin County  |         183,216 |         186,694 |         190,561 |         195,443 |         200,111 |  9.221356213431141385031874945  |\n",
      "|  Alabama | Barbour County  |          27,336 |          27,225 |          27,169 |          26,978 |          26,887 | -1.642522680714076675446297922  |\n",
      "|  Alabama | Bibb County     |          22,879 |          22,740 |          22,634 |          22,504 |          22,506 | -1.630316010315136151055553127  |\n",
      "|  Alabama | Blount County   |          57,344 |          57,694 |          57,748 |          57,720 |          57,719 |  0.653948102678571428571428571  |\n",
      "|  Alabama | Bullock County  |          10,886 |          10,623 |          10,589 |          10,605 |          10,764 | -1.120705493294139261436707698  |\n",
      "|  Alabama | Butler County   |          20,945 |          20,676 |          20,409 |          20,289 |          20,296 | -3.098591549295774647887323944  |\n",
      "|  Alabama | Calhoun County  |         118,443 |         117,760 |         117,264 |         116,547 |         115,916 | -2.133515699534797328672863740  |\n",
      "|  Alabama | Chambers County |          34,111 |          34,004 |          34,087 |          34,175 |          34,076 | -0.102606197414323825159039606  |\n",
      "|  Alabama | Cherokee County |          25,968 |          26,073 |          26,017 |          26,115 |          26,037 |  0.265711645101663585951940850  |\n",
      "|  ...     | ...             |             ... |             ... |             ... |             ... |             ... |                            ...  |\n",
      "|----------+-----------------+-----------------+-----------------+-----------------+-----------------+-----------------+---------------------------------|\n"
     ]
    }
   ],
   "source": [
    "population_rate.print_table(max_rows=10)"
   ]
  },
  {
   "cell_type": "markdown",
   "metadata": {},
   "source": [
    "It worked, but it's a little messy. Let's only print the columns we want. To do that, we'll create a new table called `for_printing` by selecting columns from `population_rate`."
   ]
  },
  {
   "cell_type": "code",
   "execution_count": 18,
   "metadata": {
    "collapsed": true
   },
   "outputs": [],
   "source": [
    "for_printing = population_rate.select(['STNAME', 'CTYNAME', 'change_1014'])"
   ]
  },
  {
   "cell_type": "markdown",
   "metadata": {},
   "source": [
    "Why don't we also sort our fields while we're at it? We'll use the `order_by` function and create a new table called `sorted_counties`."
   ]
  },
  {
   "cell_type": "code",
   "execution_count": 9,
   "metadata": {
    "collapsed": true
   },
   "outputs": [],
   "source": [
    "sorted_counties = for_printing.order_by('change_1014', reverse=True)"
   ]
  },
  {
   "cell_type": "markdown",
   "metadata": {},
   "source": [
    "Now that we've done all that, let's print the first 50 entries."
   ]
  },
  {
   "cell_type": "code",
   "execution_count": 10,
   "metadata": {
    "collapsed": false
   },
   "outputs": [
    {
     "name": "stdout",
     "output_type": "stream",
     "text": [
      "|---------------+---------------------+--------------------------------|\n",
      "|  STNAME       | CTYNAME             |                   change_1014  |\n",
      "|---------------+---------------------+--------------------------------|\n",
      "|  North Dakota | McKenzie County     | 71.94683346364347146207974980  |\n",
      "|  North Dakota | Williams County     | 42.33819164488548265627076596  |\n",
      "|  North Dakota | Mountrail County    | 26.62783171521035598705501618  |\n",
      "|  North Dakota | Stark County        | 24.71564078347636841456904693  |\n",
      "|  North Dakota | Dunn County         | 24.23044337757695566224230443  |\n",
      "|  Florida      | Sumter County       | 21.27864923054079565581681462  |\n",
      "|  Louisiana    | St. Bernard Parish  | 20.68974888574845091857810632  |\n",
      "|  Montana      | Richland County     | 18.87451222016841240501129595  |\n",
      "|  Texas        | Andrews County      | 17.80923491742500842601954837  |\n",
      "|  Texas        | Sterling County     | 17.76605101143359718557607740  |\n",
      "|  North Dakota | Divide County       | 17.26133076181292189006750241  |\n",
      "|  Virginia     | Fredericksburg city | 17.18750000000000000000000000  |\n",
      "|  Utah         | Wasatch County      | 17.07007983778988721328095298  |\n",
      "|  Texas        | Hays County         | 16.87733328279861282192196176  |\n",
      "|  North Dakota | Billings County     | 16.86121919584954604409857328  |\n",
      "|  Georgia      | Long County         | 16.58151100211186048095919341  |\n",
      "|  Iowa         | Dallas County       | 16.12554762047650483106283382  |\n",
      "|  Texas        | Fort Bend County    | 16.03842748032149321305274636  |\n",
      "|  Georgia      | Forsyth County      | 15.59662096787882559961977401  |\n",
      "|  Texas        | Kendall County      | 15.53891414816795934741909601  |\n",
      "|  Virginia     | Loudoun County      | 15.06949176716692286968510800  |\n",
      "|  Florida      | Osceola County      | 14.97344437402478030917938853  |\n",
      "|  Texas        | Williamson County   | 14.70175200039386600584703463  |\n",
      "|  North Dakota | Burke County        | 14.24936386768447837150127226  |\n",
      "|  South Dakota | Lincoln County      | 14.17054263565891472868217054  |\n",
      "|  Florida      | St. Johns County    | 13.94040479564146671755805016  |\n",
      "|  Texas        | Midland County      | 13.76030252370766748673173652  |\n",
      "|  Utah         | Uintah County       | 13.68528169231243639951894909  |\n",
      "|  Texas        | Martin County       | 13.34855719327382188083869628  |\n",
      "|  Texas        | Comal County        | 13.18582775154642948647560485  |\n",
      "|  Texas        | Crane County        | 13.11700182815356489945155393  |\n",
      "|  Texas        | McMullen County     | 13.06179775280898876404494382  |\n",
      "|  Texas        | Denton County       | 12.95847590030857441021504248  |\n",
      "|  Texas        | Montgomery County   | 12.95674337916638551568169500  |\n",
      "|  Texas        | Collin County       | 12.25931054772701910298160717  |\n",
      "|  Texas        | Ector County        | 12.25838451326788136953128419  |\n",
      "|  Texas        | Reagan County       | 12.05610265592360489406147419  |\n",
      "|  Arizona      | Greenlee County     | 12.02205441687642334891525830  |\n",
      "|  Alabama      | Russell County      | 11.87897670752078680155408322  |\n",
      "|  North Dakota | Ward County         | 11.74746335963923337091319053  |\n",
      "|  Texas        | Travis County       | 11.71360279025622960221962787  |\n",
      "|  Georgia      | Bryan County        | 11.52922601230222690043090688  |\n",
      "|  Tennessee    | Williamson County   | 11.49466501510311406654062629  |\n",
      "|  Georgia      | Columbia County     | 11.44572045936537153375215077  |\n",
      "|  Utah         | Morgan County       | 11.44027734005672864796722345  |\n",
      "|  Montana      | Wibaux County       | 11.43141153081510934393638171  |\n",
      "|  Oklahoma     | Canadian County     | 11.37449719806098944545673325  |\n",
      "|  Florida      | Walton County       | 11.35643833137272645009501403  |\n",
      "|  Mississippi  | Lafayette County    | 11.34953192384558746187020090  |\n",
      "|  Texas        | Rockwall County     | 11.19708232552838527486165107  |\n",
      "|  ...          | ...                 |                           ...  |\n",
      "|---------------+---------------------+--------------------------------|\n"
     ]
    }
   ],
   "source": [
    "sorted_counties.print_table(max_rows=50)"
   ]
  },
  {
   "cell_type": "markdown",
   "metadata": {},
   "source": [
    "That worked, but those decimals are ugly. Let's round those off. To be honest, I'm not entirely sure how this works, but Matt says it does, so I'm going with it."
   ]
  },
  {
   "cell_type": "code",
   "execution_count": 11,
   "metadata": {
    "collapsed": true
   },
   "outputs": [],
   "source": [
    "from decimal import Decimal\n",
    "\n",
    "def round_popchange(row):\n",
    "    return row['change_1014'].quantize(Decimal('0.1'))\n",
    "\n",
    "rounded_change = sorted_counties.compute([\n",
    "        ('pop_rounded', agate.Formula(agate.Number(), round_popchange))\n",
    "    ])\n",
    "\n"
   ]
  },
  {
   "cell_type": "markdown",
   "metadata": {},
   "source": [
    "Now we'll create a new table called `for_rate_printing` with the new rounded numbers. "
   ]
  },
  {
   "cell_type": "code",
   "execution_count": 19,
   "metadata": {
    "collapsed": true
   },
   "outputs": [],
   "source": [
    "for_rate_printing = rounded_change.select(['STNAME', 'CTYNAME', 'pop_rounded'])"
   ]
  },
  {
   "cell_type": "markdown",
   "metadata": {},
   "source": [
    "Then, we'll print the first 50 entries."
   ]
  },
  {
   "cell_type": "code",
   "execution_count": 14,
   "metadata": {
    "collapsed": false
   },
   "outputs": [
    {
     "name": "stdout",
     "output_type": "stream",
     "text": [
      "|---------------+---------------------+--------------|\n",
      "|  STNAME       | CTYNAME             | pop_rounded  |\n",
      "|---------------+---------------------+--------------|\n",
      "|  North Dakota | McKenzie County     |        71.9  |\n",
      "|  North Dakota | Williams County     |        42.3  |\n",
      "|  North Dakota | Mountrail County    |        26.6  |\n",
      "|  North Dakota | Stark County        |        24.7  |\n",
      "|  North Dakota | Dunn County         |        24.2  |\n",
      "|  Florida      | Sumter County       |        21.3  |\n",
      "|  Louisiana    | St. Bernard Parish  |        20.7  |\n",
      "|  Montana      | Richland County     |        18.9  |\n",
      "|  Texas        | Andrews County      |        17.8  |\n",
      "|  Texas        | Sterling County     |        17.8  |\n",
      "|  North Dakota | Divide County       |        17.3  |\n",
      "|  Virginia     | Fredericksburg city |        17.2  |\n",
      "|  Utah         | Wasatch County      |        17.1  |\n",
      "|  Texas        | Hays County         |        16.9  |\n",
      "|  North Dakota | Billings County     |        16.9  |\n",
      "|  Georgia      | Long County         |        16.6  |\n",
      "|  Iowa         | Dallas County       |        16.1  |\n",
      "|  Texas        | Fort Bend County    |        16.0  |\n",
      "|  Georgia      | Forsyth County      |        15.6  |\n",
      "|  Texas        | Kendall County      |        15.5  |\n",
      "|  Virginia     | Loudoun County      |        15.1  |\n",
      "|  Florida      | Osceola County      |        15.0  |\n",
      "|  Texas        | Williamson County   |        14.7  |\n",
      "|  North Dakota | Burke County        |        14.2  |\n",
      "|  South Dakota | Lincoln County      |        14.2  |\n",
      "|  Florida      | St. Johns County    |        13.9  |\n",
      "|  Texas        | Midland County      |        13.8  |\n",
      "|  Utah         | Uintah County       |        13.7  |\n",
      "|  Texas        | Martin County       |        13.3  |\n",
      "|  Texas        | Comal County        |        13.2  |\n",
      "|  Texas        | Crane County        |        13.1  |\n",
      "|  Texas        | McMullen County     |        13.1  |\n",
      "|  Texas        | Denton County       |        13.0  |\n",
      "|  Texas        | Montgomery County   |        13.0  |\n",
      "|  Texas        | Collin County       |        12.3  |\n",
      "|  Texas        | Ector County        |        12.3  |\n",
      "|  Texas        | Reagan County       |        12.1  |\n",
      "|  Arizona      | Greenlee County     |        12.0  |\n",
      "|  Alabama      | Russell County      |        11.9  |\n",
      "|  North Dakota | Ward County         |        11.7  |\n",
      "|  Texas        | Travis County       |        11.7  |\n",
      "|  Georgia      | Bryan County        |        11.5  |\n",
      "|  Tennessee    | Williamson County   |        11.5  |\n",
      "|  Georgia      | Columbia County     |        11.4  |\n",
      "|  Utah         | Morgan County       |        11.4  |\n",
      "|  Montana      | Wibaux County       |        11.4  |\n",
      "|  Oklahoma     | Canadian County     |        11.4  |\n",
      "|  Florida      | Walton County       |        11.4  |\n",
      "|  Mississippi  | Lafayette County    |        11.3  |\n",
      "|  Texas        | Rockwall County     |        11.2  |\n",
      "|  ...          | ...                 |         ...  |\n",
      "|---------------+---------------------+--------------|\n"
     ]
    }
   ],
   "source": [
    "for_rate_printing.print_table(max_rows = 50)"
   ]
  },
  {
   "cell_type": "code",
   "execution_count": null,
   "metadata": {
    "collapsed": true
   },
   "outputs": [],
   "source": []
  }
 ],
 "metadata": {
  "kernelspec": {
   "display_name": "Python 3",
   "language": "python",
   "name": "python3"
  },
  "language_info": {
   "codemirror_mode": {
    "name": "ipython",
    "version": 3
   },
   "file_extension": ".py",
   "mimetype": "text/x-python",
   "name": "python",
   "nbconvert_exporter": "python",
   "pygments_lexer": "ipython3",
   "version": "3.5.1"
  }
 },
 "nbformat": 4,
 "nbformat_minor": 0
}
